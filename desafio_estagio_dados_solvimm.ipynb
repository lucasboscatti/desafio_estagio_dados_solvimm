{
  "cells": [
    {
      "cell_type": "markdown",
      "id": "9b841980",
      "metadata": {
        "id": "9b841980"
      },
      "source": [
        "# Desafio estágio de dados Solvimm"
      ]
    },
    {
      "cell_type": "markdown",
      "source": [
        "### Importando bibliotecas"
      ],
      "metadata": {
        "id": "KPNG8tmX0bG9"
      },
      "id": "KPNG8tmX0bG9"
    },
    {
      "cell_type": "code",
      "source": [
        "# Importantando a biblioteca do google drive. \n",
        "# drive.mount monta a imagem do google drive dentro do google colaboratory.\n",
        "\n",
        "from google.colab import drive\n",
        "drive.mount('/content/drive')"
      ],
      "metadata": {
        "id": "xiPqhvLi0ZRB",
        "outputId": "c0076f2d-4485-4a5f-f02e-659004a216f7",
        "colab": {
          "base_uri": "https://localhost:8080/"
        }
      },
      "id": "xiPqhvLi0ZRB",
      "execution_count": 1,
      "outputs": [
        {
          "metadata": {
            "tags": null
          },
          "name": "stdout",
          "output_type": "stream",
          "text": [
            "Mounted at /content/drive\n"
          ]
        }
      ]
    },
    {
      "cell_type": "code",
      "execution_count": null,
      "id": "cfd1e801",
      "metadata": {
        "id": "cfd1e801"
      },
      "outputs": [],
      "source": [
        "# Importando biblioteca pandas com o apelido de pd para manipulação dos dados.\n",
        "\n",
        "import pandas as pd"
      ]
    },
    {
      "cell_type": "markdown",
      "id": "4561e0d9",
      "metadata": {
        "id": "4561e0d9"
      },
      "source": [
        "### Lendo os datasets"
      ]
    },
    {
      "cell_type": "code",
      "execution_count": null,
      "id": "dc7a3675",
      "metadata": {
        "id": "dc7a3675"
      },
      "outputs": [],
      "source": [
        "# Uso da função read_csv() para ler os datasets de customers rating e movies. Estas funções recebem o nome do arquivo\n",
        "# e o separador usado no csv ';'.\n",
        "\n",
        "# Na leitura do csv movies, usei o parâmetro 'names', o qual recebe uma lista com o nome das colunas a serem definidas. \n",
        "\n",
        "# A saída é um dataframe.\n",
        "\n",
        "df_customers_rating = pd.read_csv('/content/drive/MyDrive/customers_rating.csv', sep=';')\n",
        "df_movies = pd.read_csv('/content/drive/MyDrive/movies.csv', sep=';', names=['Movie_Id', 'title/year'])"
      ]
    },
    {
      "cell_type": "markdown",
      "id": "d368257e",
      "metadata": {
        "id": "d368257e"
      },
      "source": [
        "### Análise inicial dos dataframes "
      ]
    },
    {
      "cell_type": "code",
      "execution_count": null,
      "id": "f8ac1f89",
      "metadata": {
        "id": "f8ac1f89",
        "outputId": "6c941bf8-857b-40dd-bf95-83cc25d1196b",
        "colab": {
          "base_uri": "https://localhost:8080/"
        }
      },
      "outputs": [
        {
          "output_type": "stream",
          "name": "stdout",
          "text": [
            "(24053764, 4) \n",
            "\n",
            " Cust_Id       int64\n",
            "Rating      float64\n",
            "Date         object\n",
            "Movie_Id      int64\n",
            "dtype: object\n"
          ]
        }
      ],
      "source": [
        "# Uso das propriedades shape e dtypes. \n",
        "\n",
        "# shape para verificar a quantidade de colunas e linhas do dataframe.\n",
        "# A saída é uma tupla com a quantidade de linhas e colunas.\n",
        "\n",
        "# dtypes para visualizar os tipos de dados das colunas.\n",
        "# A saída é uma serie com os nomens das colunas e os tipos de dados.\n",
        "\n",
        "print(df_customers_rating.shape, '\\n\\n', df_customers_rating.dtypes)"
      ]
    },
    {
      "cell_type": "code",
      "execution_count": null,
      "id": "64abeb7a",
      "metadata": {
        "id": "64abeb7a",
        "outputId": "6414624b-a595-434b-a606-a58a7c810520",
        "colab": {
          "base_uri": "https://localhost:8080/"
        }
      },
      "outputs": [
        {
          "output_type": "stream",
          "name": "stdout",
          "text": [
            "(4499, 2) \n",
            "\n",
            " Movie_Id       int64\n",
            "title/year    object\n",
            "dtype: object\n"
          ]
        }
      ],
      "source": [
        "# Uso das propriedades shape e dtypes. \n",
        "\n",
        "# shape para verificar a quantidade de colunas e linhas do dataframe.\n",
        "# A saída é uma tupla com a quantidade de linhas e colunas.\n",
        "\n",
        "# dtypes para visualizar os tipos de dados das colunas.\n",
        "# A saída é uma serie com os nomens das colunas e os tipos de dados.\n",
        "\n",
        "print(df_movies.shape, '\\n\\n', df_movies.dtypes)"
      ]
    },
    {
      "cell_type": "markdown",
      "id": "2ea4a7ea",
      "metadata": {
        "id": "2ea4a7ea"
      },
      "source": [
        "### Visualização dos dados"
      ]
    },
    {
      "cell_type": "code",
      "execution_count": null,
      "metadata": {
        "id": "frwjzUBx0XiE",
        "outputId": "43c1954e-ada4-46ec-e380-87756b356063",
        "colab": {
          "base_uri": "https://localhost:8080/",
          "height": 206
        }
      },
      "outputs": [
        {
          "output_type": "execute_result",
          "data": {
            "text/plain": [
              "   Cust_Id  Rating        Date  Movie_Id\n",
              "0  1488844     3.0  2005-09-06         1\n",
              "1   822109     5.0  2005-05-13         1\n",
              "2   885013     4.0  2005-10-19         1\n",
              "3    30878     4.0  2005-12-26         1\n",
              "4   823519     3.0  2004-05-03         1"
            ],
            "text/html": [
              "\n",
              "  <div id=\"df-02231ea9-6ea0-4580-b34a-8431dbe7dbec\">\n",
              "    <div class=\"colab-df-container\">\n",
              "      <div>\n",
              "<style scoped>\n",
              "    .dataframe tbody tr th:only-of-type {\n",
              "        vertical-align: middle;\n",
              "    }\n",
              "\n",
              "    .dataframe tbody tr th {\n",
              "        vertical-align: top;\n",
              "    }\n",
              "\n",
              "    .dataframe thead th {\n",
              "        text-align: right;\n",
              "    }\n",
              "</style>\n",
              "<table border=\"1\" class=\"dataframe\">\n",
              "  <thead>\n",
              "    <tr style=\"text-align: right;\">\n",
              "      <th></th>\n",
              "      <th>Cust_Id</th>\n",
              "      <th>Rating</th>\n",
              "      <th>Date</th>\n",
              "      <th>Movie_Id</th>\n",
              "    </tr>\n",
              "  </thead>\n",
              "  <tbody>\n",
              "    <tr>\n",
              "      <th>0</th>\n",
              "      <td>1488844</td>\n",
              "      <td>3.0</td>\n",
              "      <td>2005-09-06</td>\n",
              "      <td>1</td>\n",
              "    </tr>\n",
              "    <tr>\n",
              "      <th>1</th>\n",
              "      <td>822109</td>\n",
              "      <td>5.0</td>\n",
              "      <td>2005-05-13</td>\n",
              "      <td>1</td>\n",
              "    </tr>\n",
              "    <tr>\n",
              "      <th>2</th>\n",
              "      <td>885013</td>\n",
              "      <td>4.0</td>\n",
              "      <td>2005-10-19</td>\n",
              "      <td>1</td>\n",
              "    </tr>\n",
              "    <tr>\n",
              "      <th>3</th>\n",
              "      <td>30878</td>\n",
              "      <td>4.0</td>\n",
              "      <td>2005-12-26</td>\n",
              "      <td>1</td>\n",
              "    </tr>\n",
              "    <tr>\n",
              "      <th>4</th>\n",
              "      <td>823519</td>\n",
              "      <td>3.0</td>\n",
              "      <td>2004-05-03</td>\n",
              "      <td>1</td>\n",
              "    </tr>\n",
              "  </tbody>\n",
              "</table>\n",
              "</div>\n",
              "      <button class=\"colab-df-convert\" onclick=\"convertToInteractive('df-02231ea9-6ea0-4580-b34a-8431dbe7dbec')\"\n",
              "              title=\"Convert this dataframe to an interactive table.\"\n",
              "              style=\"display:none;\">\n",
              "        \n",
              "  <svg xmlns=\"http://www.w3.org/2000/svg\" height=\"24px\"viewBox=\"0 0 24 24\"\n",
              "       width=\"24px\">\n",
              "    <path d=\"M0 0h24v24H0V0z\" fill=\"none\"/>\n",
              "    <path d=\"M18.56 5.44l.94 2.06.94-2.06 2.06-.94-2.06-.94-.94-2.06-.94 2.06-2.06.94zm-11 1L8.5 8.5l.94-2.06 2.06-.94-2.06-.94L8.5 2.5l-.94 2.06-2.06.94zm10 10l.94 2.06.94-2.06 2.06-.94-2.06-.94-.94-2.06-.94 2.06-2.06.94z\"/><path d=\"M17.41 7.96l-1.37-1.37c-.4-.4-.92-.59-1.43-.59-.52 0-1.04.2-1.43.59L10.3 9.45l-7.72 7.72c-.78.78-.78 2.05 0 2.83L4 21.41c.39.39.9.59 1.41.59.51 0 1.02-.2 1.41-.59l7.78-7.78 2.81-2.81c.8-.78.8-2.07 0-2.86zM5.41 20L4 18.59l7.72-7.72 1.47 1.35L5.41 20z\"/>\n",
              "  </svg>\n",
              "      </button>\n",
              "      \n",
              "  <style>\n",
              "    .colab-df-container {\n",
              "      display:flex;\n",
              "      flex-wrap:wrap;\n",
              "      gap: 12px;\n",
              "    }\n",
              "\n",
              "    .colab-df-convert {\n",
              "      background-color: #E8F0FE;\n",
              "      border: none;\n",
              "      border-radius: 50%;\n",
              "      cursor: pointer;\n",
              "      display: none;\n",
              "      fill: #1967D2;\n",
              "      height: 32px;\n",
              "      padding: 0 0 0 0;\n",
              "      width: 32px;\n",
              "    }\n",
              "\n",
              "    .colab-df-convert:hover {\n",
              "      background-color: #E2EBFA;\n",
              "      box-shadow: 0px 1px 2px rgba(60, 64, 67, 0.3), 0px 1px 3px 1px rgba(60, 64, 67, 0.15);\n",
              "      fill: #174EA6;\n",
              "    }\n",
              "\n",
              "    [theme=dark] .colab-df-convert {\n",
              "      background-color: #3B4455;\n",
              "      fill: #D2E3FC;\n",
              "    }\n",
              "\n",
              "    [theme=dark] .colab-df-convert:hover {\n",
              "      background-color: #434B5C;\n",
              "      box-shadow: 0px 1px 3px 1px rgba(0, 0, 0, 0.15);\n",
              "      filter: drop-shadow(0px 1px 2px rgba(0, 0, 0, 0.3));\n",
              "      fill: #FFFFFF;\n",
              "    }\n",
              "  </style>\n",
              "\n",
              "      <script>\n",
              "        const buttonEl =\n",
              "          document.querySelector('#df-02231ea9-6ea0-4580-b34a-8431dbe7dbec button.colab-df-convert');\n",
              "        buttonEl.style.display =\n",
              "          google.colab.kernel.accessAllowed ? 'block' : 'none';\n",
              "\n",
              "        async function convertToInteractive(key) {\n",
              "          const element = document.querySelector('#df-02231ea9-6ea0-4580-b34a-8431dbe7dbec');\n",
              "          const dataTable =\n",
              "            await google.colab.kernel.invokeFunction('convertToInteractive',\n",
              "                                                     [key], {});\n",
              "          if (!dataTable) return;\n",
              "\n",
              "          const docLinkHtml = 'Like what you see? Visit the ' +\n",
              "            '<a target=\"_blank\" href=https://colab.research.google.com/notebooks/data_table.ipynb>data table notebook</a>'\n",
              "            + ' to learn more about interactive tables.';\n",
              "          element.innerHTML = '';\n",
              "          dataTable['output_type'] = 'display_data';\n",
              "          await google.colab.output.renderOutput(dataTable, element);\n",
              "          const docLink = document.createElement('div');\n",
              "          docLink.innerHTML = docLinkHtml;\n",
              "          element.appendChild(docLink);\n",
              "        }\n",
              "      </script>\n",
              "    </div>\n",
              "  </div>\n",
              "  "
            ]
          },
          "metadata": {},
          "execution_count": 6
        }
      ],
      "source": [
        "# Uso do método head() para visualizar os primeiros 5 registros do dataframe.\n",
        "\n",
        "# A saída é um dataframe com os primeiros 5 registros.\n",
        "\n",
        "df_customers_rating.head()"
      ],
      "id": "frwjzUBx0XiE"
    },
    {
      "cell_type": "code",
      "execution_count": null,
      "id": "ad1a214c",
      "metadata": {
        "id": "ad1a214c",
        "outputId": "bff8aae1-5ae6-4959-a851-f814cd9b822f",
        "colab": {
          "base_uri": "https://localhost:8080/",
          "height": 206
        }
      },
      "outputs": [
        {
          "output_type": "execute_result",
          "data": {
            "text/plain": [
              "          Cust_Id  Rating        Date  Movie_Id\n",
              "24053759  2591364     2.0  2005-02-16      4499\n",
              "24053760  1791000     2.0  2005-02-10      4499\n",
              "24053761   512536     5.0  2005-07-27      4499\n",
              "24053762   988963     3.0  2005-12-20      4499\n",
              "24053763  1704416     3.0  2004-06-02      4499"
            ],
            "text/html": [
              "\n",
              "  <div id=\"df-d396ee5c-6ddd-44fd-94f6-2fc8ff823279\">\n",
              "    <div class=\"colab-df-container\">\n",
              "      <div>\n",
              "<style scoped>\n",
              "    .dataframe tbody tr th:only-of-type {\n",
              "        vertical-align: middle;\n",
              "    }\n",
              "\n",
              "    .dataframe tbody tr th {\n",
              "        vertical-align: top;\n",
              "    }\n",
              "\n",
              "    .dataframe thead th {\n",
              "        text-align: right;\n",
              "    }\n",
              "</style>\n",
              "<table border=\"1\" class=\"dataframe\">\n",
              "  <thead>\n",
              "    <tr style=\"text-align: right;\">\n",
              "      <th></th>\n",
              "      <th>Cust_Id</th>\n",
              "      <th>Rating</th>\n",
              "      <th>Date</th>\n",
              "      <th>Movie_Id</th>\n",
              "    </tr>\n",
              "  </thead>\n",
              "  <tbody>\n",
              "    <tr>\n",
              "      <th>24053759</th>\n",
              "      <td>2591364</td>\n",
              "      <td>2.0</td>\n",
              "      <td>2005-02-16</td>\n",
              "      <td>4499</td>\n",
              "    </tr>\n",
              "    <tr>\n",
              "      <th>24053760</th>\n",
              "      <td>1791000</td>\n",
              "      <td>2.0</td>\n",
              "      <td>2005-02-10</td>\n",
              "      <td>4499</td>\n",
              "    </tr>\n",
              "    <tr>\n",
              "      <th>24053761</th>\n",
              "      <td>512536</td>\n",
              "      <td>5.0</td>\n",
              "      <td>2005-07-27</td>\n",
              "      <td>4499</td>\n",
              "    </tr>\n",
              "    <tr>\n",
              "      <th>24053762</th>\n",
              "      <td>988963</td>\n",
              "      <td>3.0</td>\n",
              "      <td>2005-12-20</td>\n",
              "      <td>4499</td>\n",
              "    </tr>\n",
              "    <tr>\n",
              "      <th>24053763</th>\n",
              "      <td>1704416</td>\n",
              "      <td>3.0</td>\n",
              "      <td>2004-06-02</td>\n",
              "      <td>4499</td>\n",
              "    </tr>\n",
              "  </tbody>\n",
              "</table>\n",
              "</div>\n",
              "      <button class=\"colab-df-convert\" onclick=\"convertToInteractive('df-d396ee5c-6ddd-44fd-94f6-2fc8ff823279')\"\n",
              "              title=\"Convert this dataframe to an interactive table.\"\n",
              "              style=\"display:none;\">\n",
              "        \n",
              "  <svg xmlns=\"http://www.w3.org/2000/svg\" height=\"24px\"viewBox=\"0 0 24 24\"\n",
              "       width=\"24px\">\n",
              "    <path d=\"M0 0h24v24H0V0z\" fill=\"none\"/>\n",
              "    <path d=\"M18.56 5.44l.94 2.06.94-2.06 2.06-.94-2.06-.94-.94-2.06-.94 2.06-2.06.94zm-11 1L8.5 8.5l.94-2.06 2.06-.94-2.06-.94L8.5 2.5l-.94 2.06-2.06.94zm10 10l.94 2.06.94-2.06 2.06-.94-2.06-.94-.94-2.06-.94 2.06-2.06.94z\"/><path d=\"M17.41 7.96l-1.37-1.37c-.4-.4-.92-.59-1.43-.59-.52 0-1.04.2-1.43.59L10.3 9.45l-7.72 7.72c-.78.78-.78 2.05 0 2.83L4 21.41c.39.39.9.59 1.41.59.51 0 1.02-.2 1.41-.59l7.78-7.78 2.81-2.81c.8-.78.8-2.07 0-2.86zM5.41 20L4 18.59l7.72-7.72 1.47 1.35L5.41 20z\"/>\n",
              "  </svg>\n",
              "      </button>\n",
              "      \n",
              "  <style>\n",
              "    .colab-df-container {\n",
              "      display:flex;\n",
              "      flex-wrap:wrap;\n",
              "      gap: 12px;\n",
              "    }\n",
              "\n",
              "    .colab-df-convert {\n",
              "      background-color: #E8F0FE;\n",
              "      border: none;\n",
              "      border-radius: 50%;\n",
              "      cursor: pointer;\n",
              "      display: none;\n",
              "      fill: #1967D2;\n",
              "      height: 32px;\n",
              "      padding: 0 0 0 0;\n",
              "      width: 32px;\n",
              "    }\n",
              "\n",
              "    .colab-df-convert:hover {\n",
              "      background-color: #E2EBFA;\n",
              "      box-shadow: 0px 1px 2px rgba(60, 64, 67, 0.3), 0px 1px 3px 1px rgba(60, 64, 67, 0.15);\n",
              "      fill: #174EA6;\n",
              "    }\n",
              "\n",
              "    [theme=dark] .colab-df-convert {\n",
              "      background-color: #3B4455;\n",
              "      fill: #D2E3FC;\n",
              "    }\n",
              "\n",
              "    [theme=dark] .colab-df-convert:hover {\n",
              "      background-color: #434B5C;\n",
              "      box-shadow: 0px 1px 3px 1px rgba(0, 0, 0, 0.15);\n",
              "      filter: drop-shadow(0px 1px 2px rgba(0, 0, 0, 0.3));\n",
              "      fill: #FFFFFF;\n",
              "    }\n",
              "  </style>\n",
              "\n",
              "      <script>\n",
              "        const buttonEl =\n",
              "          document.querySelector('#df-d396ee5c-6ddd-44fd-94f6-2fc8ff823279 button.colab-df-convert');\n",
              "        buttonEl.style.display =\n",
              "          google.colab.kernel.accessAllowed ? 'block' : 'none';\n",
              "\n",
              "        async function convertToInteractive(key) {\n",
              "          const element = document.querySelector('#df-d396ee5c-6ddd-44fd-94f6-2fc8ff823279');\n",
              "          const dataTable =\n",
              "            await google.colab.kernel.invokeFunction('convertToInteractive',\n",
              "                                                     [key], {});\n",
              "          if (!dataTable) return;\n",
              "\n",
              "          const docLinkHtml = 'Like what you see? Visit the ' +\n",
              "            '<a target=\"_blank\" href=https://colab.research.google.com/notebooks/data_table.ipynb>data table notebook</a>'\n",
              "            + ' to learn more about interactive tables.';\n",
              "          element.innerHTML = '';\n",
              "          dataTable['output_type'] = 'display_data';\n",
              "          await google.colab.output.renderOutput(dataTable, element);\n",
              "          const docLink = document.createElement('div');\n",
              "          docLink.innerHTML = docLinkHtml;\n",
              "          element.appendChild(docLink);\n",
              "        }\n",
              "      </script>\n",
              "    </div>\n",
              "  </div>\n",
              "  "
            ]
          },
          "metadata": {},
          "execution_count": 7
        }
      ],
      "source": [
        "# Uso do método tail() para visualizar os últimos 5 registros do dataframe.\n",
        "\n",
        "# A saída é um dataframe com os últimos 5 registros.\n",
        "\n",
        "df_customers_rating.tail()"
      ]
    },
    {
      "cell_type": "code",
      "execution_count": null,
      "id": "908ef3de",
      "metadata": {
        "id": "908ef3de",
        "outputId": "8dd80c60-486b-4af6-f383-2d41a1670344",
        "colab": {
          "base_uri": "https://localhost:8080/",
          "height": 206
        }
      },
      "outputs": [
        {
          "output_type": "execute_result",
          "data": {
            "text/plain": [
              "   Movie_Id                            title/year\n",
              "0         1               (Dinosaur Planet, 2003)\n",
              "1         2    (Isle of Man TT 2004 Review, 2004)\n",
              "2         3                     (Character, 1997)\n",
              "3         4  (Paula Abdul's Get Up & Dance, 1994)\n",
              "4         5      (The Rise and Fall of ECW, 2004)"
            ],
            "text/html": [
              "\n",
              "  <div id=\"df-f8e94cb9-2d70-418a-8c02-af77fdfd8b31\">\n",
              "    <div class=\"colab-df-container\">\n",
              "      <div>\n",
              "<style scoped>\n",
              "    .dataframe tbody tr th:only-of-type {\n",
              "        vertical-align: middle;\n",
              "    }\n",
              "\n",
              "    .dataframe tbody tr th {\n",
              "        vertical-align: top;\n",
              "    }\n",
              "\n",
              "    .dataframe thead th {\n",
              "        text-align: right;\n",
              "    }\n",
              "</style>\n",
              "<table border=\"1\" class=\"dataframe\">\n",
              "  <thead>\n",
              "    <tr style=\"text-align: right;\">\n",
              "      <th></th>\n",
              "      <th>Movie_Id</th>\n",
              "      <th>title/year</th>\n",
              "    </tr>\n",
              "  </thead>\n",
              "  <tbody>\n",
              "    <tr>\n",
              "      <th>0</th>\n",
              "      <td>1</td>\n",
              "      <td>(Dinosaur Planet, 2003)</td>\n",
              "    </tr>\n",
              "    <tr>\n",
              "      <th>1</th>\n",
              "      <td>2</td>\n",
              "      <td>(Isle of Man TT 2004 Review, 2004)</td>\n",
              "    </tr>\n",
              "    <tr>\n",
              "      <th>2</th>\n",
              "      <td>3</td>\n",
              "      <td>(Character, 1997)</td>\n",
              "    </tr>\n",
              "    <tr>\n",
              "      <th>3</th>\n",
              "      <td>4</td>\n",
              "      <td>(Paula Abdul's Get Up &amp; Dance, 1994)</td>\n",
              "    </tr>\n",
              "    <tr>\n",
              "      <th>4</th>\n",
              "      <td>5</td>\n",
              "      <td>(The Rise and Fall of ECW, 2004)</td>\n",
              "    </tr>\n",
              "  </tbody>\n",
              "</table>\n",
              "</div>\n",
              "      <button class=\"colab-df-convert\" onclick=\"convertToInteractive('df-f8e94cb9-2d70-418a-8c02-af77fdfd8b31')\"\n",
              "              title=\"Convert this dataframe to an interactive table.\"\n",
              "              style=\"display:none;\">\n",
              "        \n",
              "  <svg xmlns=\"http://www.w3.org/2000/svg\" height=\"24px\"viewBox=\"0 0 24 24\"\n",
              "       width=\"24px\">\n",
              "    <path d=\"M0 0h24v24H0V0z\" fill=\"none\"/>\n",
              "    <path d=\"M18.56 5.44l.94 2.06.94-2.06 2.06-.94-2.06-.94-.94-2.06-.94 2.06-2.06.94zm-11 1L8.5 8.5l.94-2.06 2.06-.94-2.06-.94L8.5 2.5l-.94 2.06-2.06.94zm10 10l.94 2.06.94-2.06 2.06-.94-2.06-.94-.94-2.06-.94 2.06-2.06.94z\"/><path d=\"M17.41 7.96l-1.37-1.37c-.4-.4-.92-.59-1.43-.59-.52 0-1.04.2-1.43.59L10.3 9.45l-7.72 7.72c-.78.78-.78 2.05 0 2.83L4 21.41c.39.39.9.59 1.41.59.51 0 1.02-.2 1.41-.59l7.78-7.78 2.81-2.81c.8-.78.8-2.07 0-2.86zM5.41 20L4 18.59l7.72-7.72 1.47 1.35L5.41 20z\"/>\n",
              "  </svg>\n",
              "      </button>\n",
              "      \n",
              "  <style>\n",
              "    .colab-df-container {\n",
              "      display:flex;\n",
              "      flex-wrap:wrap;\n",
              "      gap: 12px;\n",
              "    }\n",
              "\n",
              "    .colab-df-convert {\n",
              "      background-color: #E8F0FE;\n",
              "      border: none;\n",
              "      border-radius: 50%;\n",
              "      cursor: pointer;\n",
              "      display: none;\n",
              "      fill: #1967D2;\n",
              "      height: 32px;\n",
              "      padding: 0 0 0 0;\n",
              "      width: 32px;\n",
              "    }\n",
              "\n",
              "    .colab-df-convert:hover {\n",
              "      background-color: #E2EBFA;\n",
              "      box-shadow: 0px 1px 2px rgba(60, 64, 67, 0.3), 0px 1px 3px 1px rgba(60, 64, 67, 0.15);\n",
              "      fill: #174EA6;\n",
              "    }\n",
              "\n",
              "    [theme=dark] .colab-df-convert {\n",
              "      background-color: #3B4455;\n",
              "      fill: #D2E3FC;\n",
              "    }\n",
              "\n",
              "    [theme=dark] .colab-df-convert:hover {\n",
              "      background-color: #434B5C;\n",
              "      box-shadow: 0px 1px 3px 1px rgba(0, 0, 0, 0.15);\n",
              "      filter: drop-shadow(0px 1px 2px rgba(0, 0, 0, 0.3));\n",
              "      fill: #FFFFFF;\n",
              "    }\n",
              "  </style>\n",
              "\n",
              "      <script>\n",
              "        const buttonEl =\n",
              "          document.querySelector('#df-f8e94cb9-2d70-418a-8c02-af77fdfd8b31 button.colab-df-convert');\n",
              "        buttonEl.style.display =\n",
              "          google.colab.kernel.accessAllowed ? 'block' : 'none';\n",
              "\n",
              "        async function convertToInteractive(key) {\n",
              "          const element = document.querySelector('#df-f8e94cb9-2d70-418a-8c02-af77fdfd8b31');\n",
              "          const dataTable =\n",
              "            await google.colab.kernel.invokeFunction('convertToInteractive',\n",
              "                                                     [key], {});\n",
              "          if (!dataTable) return;\n",
              "\n",
              "          const docLinkHtml = 'Like what you see? Visit the ' +\n",
              "            '<a target=\"_blank\" href=https://colab.research.google.com/notebooks/data_table.ipynb>data table notebook</a>'\n",
              "            + ' to learn more about interactive tables.';\n",
              "          element.innerHTML = '';\n",
              "          dataTable['output_type'] = 'display_data';\n",
              "          await google.colab.output.renderOutput(dataTable, element);\n",
              "          const docLink = document.createElement('div');\n",
              "          docLink.innerHTML = docLinkHtml;\n",
              "          element.appendChild(docLink);\n",
              "        }\n",
              "      </script>\n",
              "    </div>\n",
              "  </div>\n",
              "  "
            ]
          },
          "metadata": {},
          "execution_count": 8
        }
      ],
      "source": [
        "# Uso do método head() para visualizar os primeiros 5 registros do dataframe.\n",
        "\n",
        "# A saída é um dataframe com os primeiros 5 registros.\n",
        "\n",
        "df_movies.head()"
      ]
    },
    {
      "cell_type": "code",
      "execution_count": null,
      "id": "037b38a3",
      "metadata": {
        "id": "037b38a3",
        "outputId": "aa69dfa8-464b-425a-a890-b31e193a4420",
        "colab": {
          "base_uri": "https://localhost:8080/",
          "height": 206
        }
      },
      "outputs": [
        {
          "output_type": "execute_result",
          "data": {
            "text/plain": [
              "      Movie_Id                                         title/year\n",
              "4494      4495  (Clifford: Happy Birthday Clifford / Puppy Lov...\n",
              "4495      4496                      (Farewell My Concubine, 1993)\n",
              "4496      4497                                 (Texasville, 1990)\n",
              "4497      4498                                      (Gonin, 2000)\n",
              "4498      4499                                 (In My Skin, 2002)"
            ],
            "text/html": [
              "\n",
              "  <div id=\"df-37299e6a-ec07-4872-94fb-a7de6eef6534\">\n",
              "    <div class=\"colab-df-container\">\n",
              "      <div>\n",
              "<style scoped>\n",
              "    .dataframe tbody tr th:only-of-type {\n",
              "        vertical-align: middle;\n",
              "    }\n",
              "\n",
              "    .dataframe tbody tr th {\n",
              "        vertical-align: top;\n",
              "    }\n",
              "\n",
              "    .dataframe thead th {\n",
              "        text-align: right;\n",
              "    }\n",
              "</style>\n",
              "<table border=\"1\" class=\"dataframe\">\n",
              "  <thead>\n",
              "    <tr style=\"text-align: right;\">\n",
              "      <th></th>\n",
              "      <th>Movie_Id</th>\n",
              "      <th>title/year</th>\n",
              "    </tr>\n",
              "  </thead>\n",
              "  <tbody>\n",
              "    <tr>\n",
              "      <th>4494</th>\n",
              "      <td>4495</td>\n",
              "      <td>(Clifford: Happy Birthday Clifford / Puppy Lov...</td>\n",
              "    </tr>\n",
              "    <tr>\n",
              "      <th>4495</th>\n",
              "      <td>4496</td>\n",
              "      <td>(Farewell My Concubine, 1993)</td>\n",
              "    </tr>\n",
              "    <tr>\n",
              "      <th>4496</th>\n",
              "      <td>4497</td>\n",
              "      <td>(Texasville, 1990)</td>\n",
              "    </tr>\n",
              "    <tr>\n",
              "      <th>4497</th>\n",
              "      <td>4498</td>\n",
              "      <td>(Gonin, 2000)</td>\n",
              "    </tr>\n",
              "    <tr>\n",
              "      <th>4498</th>\n",
              "      <td>4499</td>\n",
              "      <td>(In My Skin, 2002)</td>\n",
              "    </tr>\n",
              "  </tbody>\n",
              "</table>\n",
              "</div>\n",
              "      <button class=\"colab-df-convert\" onclick=\"convertToInteractive('df-37299e6a-ec07-4872-94fb-a7de6eef6534')\"\n",
              "              title=\"Convert this dataframe to an interactive table.\"\n",
              "              style=\"display:none;\">\n",
              "        \n",
              "  <svg xmlns=\"http://www.w3.org/2000/svg\" height=\"24px\"viewBox=\"0 0 24 24\"\n",
              "       width=\"24px\">\n",
              "    <path d=\"M0 0h24v24H0V0z\" fill=\"none\"/>\n",
              "    <path d=\"M18.56 5.44l.94 2.06.94-2.06 2.06-.94-2.06-.94-.94-2.06-.94 2.06-2.06.94zm-11 1L8.5 8.5l.94-2.06 2.06-.94-2.06-.94L8.5 2.5l-.94 2.06-2.06.94zm10 10l.94 2.06.94-2.06 2.06-.94-2.06-.94-.94-2.06-.94 2.06-2.06.94z\"/><path d=\"M17.41 7.96l-1.37-1.37c-.4-.4-.92-.59-1.43-.59-.52 0-1.04.2-1.43.59L10.3 9.45l-7.72 7.72c-.78.78-.78 2.05 0 2.83L4 21.41c.39.39.9.59 1.41.59.51 0 1.02-.2 1.41-.59l7.78-7.78 2.81-2.81c.8-.78.8-2.07 0-2.86zM5.41 20L4 18.59l7.72-7.72 1.47 1.35L5.41 20z\"/>\n",
              "  </svg>\n",
              "      </button>\n",
              "      \n",
              "  <style>\n",
              "    .colab-df-container {\n",
              "      display:flex;\n",
              "      flex-wrap:wrap;\n",
              "      gap: 12px;\n",
              "    }\n",
              "\n",
              "    .colab-df-convert {\n",
              "      background-color: #E8F0FE;\n",
              "      border: none;\n",
              "      border-radius: 50%;\n",
              "      cursor: pointer;\n",
              "      display: none;\n",
              "      fill: #1967D2;\n",
              "      height: 32px;\n",
              "      padding: 0 0 0 0;\n",
              "      width: 32px;\n",
              "    }\n",
              "\n",
              "    .colab-df-convert:hover {\n",
              "      background-color: #E2EBFA;\n",
              "      box-shadow: 0px 1px 2px rgba(60, 64, 67, 0.3), 0px 1px 3px 1px rgba(60, 64, 67, 0.15);\n",
              "      fill: #174EA6;\n",
              "    }\n",
              "\n",
              "    [theme=dark] .colab-df-convert {\n",
              "      background-color: #3B4455;\n",
              "      fill: #D2E3FC;\n",
              "    }\n",
              "\n",
              "    [theme=dark] .colab-df-convert:hover {\n",
              "      background-color: #434B5C;\n",
              "      box-shadow: 0px 1px 3px 1px rgba(0, 0, 0, 0.15);\n",
              "      filter: drop-shadow(0px 1px 2px rgba(0, 0, 0, 0.3));\n",
              "      fill: #FFFFFF;\n",
              "    }\n",
              "  </style>\n",
              "\n",
              "      <script>\n",
              "        const buttonEl =\n",
              "          document.querySelector('#df-37299e6a-ec07-4872-94fb-a7de6eef6534 button.colab-df-convert');\n",
              "        buttonEl.style.display =\n",
              "          google.colab.kernel.accessAllowed ? 'block' : 'none';\n",
              "\n",
              "        async function convertToInteractive(key) {\n",
              "          const element = document.querySelector('#df-37299e6a-ec07-4872-94fb-a7de6eef6534');\n",
              "          const dataTable =\n",
              "            await google.colab.kernel.invokeFunction('convertToInteractive',\n",
              "                                                     [key], {});\n",
              "          if (!dataTable) return;\n",
              "\n",
              "          const docLinkHtml = 'Like what you see? Visit the ' +\n",
              "            '<a target=\"_blank\" href=https://colab.research.google.com/notebooks/data_table.ipynb>data table notebook</a>'\n",
              "            + ' to learn more about interactive tables.';\n",
              "          element.innerHTML = '';\n",
              "          dataTable['output_type'] = 'display_data';\n",
              "          await google.colab.output.renderOutput(dataTable, element);\n",
              "          const docLink = document.createElement('div');\n",
              "          docLink.innerHTML = docLinkHtml;\n",
              "          element.appendChild(docLink);\n",
              "        }\n",
              "      </script>\n",
              "    </div>\n",
              "  </div>\n",
              "  "
            ]
          },
          "metadata": {},
          "execution_count": 9
        }
      ],
      "source": [
        "# Uso do método tail() para visualizar os últimos 5 registros do dataframe.\n",
        "\n",
        "# A saída é um dataframe com os últimos 5 registros.\n",
        "\n",
        "df_movies.tail()"
      ]
    },
    {
      "cell_type": "markdown",
      "id": "b14b2ce4",
      "metadata": {
        "id": "b14b2ce4"
      },
      "source": [
        "### Verificando a nulidade dos dados"
      ]
    },
    {
      "cell_type": "code",
      "execution_count": null,
      "id": "4ad9125a",
      "metadata": {
        "id": "4ad9125a",
        "outputId": "7d71924b-ce76-4aed-8b71-f8da122984c1",
        "colab": {
          "base_uri": "https://localhost:8080/"
        }
      },
      "outputs": [
        {
          "output_type": "execute_result",
          "data": {
            "text/plain": [
              "Cust_Id     0\n",
              "Rating      0\n",
              "Date        0\n",
              "Movie_Id    0\n",
              "dtype: int64"
            ]
          },
          "metadata": {},
          "execution_count": 10
        }
      ],
      "source": [
        "# Uso do método isnull() para verificar a nulidade dos dados. \n",
        "# A saída é um dataframe com as linhas recebendo valores boolean\n",
        "\n",
        "# Uso do método sum() para verificar a quantidade de nulidades por coluna. \n",
        "# Este método soma os valores True (nulidade).\n",
        "\n",
        "# A saída é uma Series com os nomes das colunas e a quantidade de nulidades.\n",
        "\n",
        "df_customers_rating.isnull().sum()"
      ]
    },
    {
      "cell_type": "code",
      "execution_count": null,
      "id": "a9dc8eba",
      "metadata": {
        "id": "a9dc8eba",
        "outputId": "3ff02a00-ce83-4218-d2dc-481f8c61e2eb",
        "colab": {
          "base_uri": "https://localhost:8080/"
        }
      },
      "outputs": [
        {
          "output_type": "execute_result",
          "data": {
            "text/plain": [
              "Movie_Id      0\n",
              "title/year    0\n",
              "dtype: int64"
            ]
          },
          "metadata": {},
          "execution_count": 11
        }
      ],
      "source": [
        "# Uso do método isnull() para verificar a nulidade dos dados. \n",
        "# A saída é um dataframe com as linhas recebendo valores boolean\n",
        "\n",
        "# Uso do método sum() para verificar a quantidade de nulidades por coluna.\n",
        "# Este método soma os valores True (nulidade).\n",
        "\n",
        "# A saída é uma Series com os nomes das colunas e a quantidade de nulidades.\n",
        "\n",
        "df_movies.isnull().sum()"
      ]
    },
    {
      "cell_type": "markdown",
      "id": "70eca4dc",
      "metadata": {
        "id": "70eca4dc"
      },
      "source": [
        "Podemos ver que não há nulidade em ambos os datasets."
      ]
    },
    {
      "cell_type": "markdown",
      "id": "bef8b5e2",
      "metadata": {
        "id": "bef8b5e2"
      },
      "source": [
        "### Juntando os datasets"
      ]
    },
    {
      "cell_type": "markdown",
      "id": "695fe56b",
      "metadata": {
        "id": "695fe56b"
      },
      "source": [
        "Podemos juntar os datasets em um único dataframe, unindo de acordo com o Movie_Id"
      ]
    },
    {
      "cell_type": "code",
      "execution_count": null,
      "id": "69bcdee2",
      "metadata": {
        "id": "69bcdee2"
      },
      "outputs": [],
      "source": [
        "# Uso do método set_index() para definir como index do dataframe a coluna Movie_Id do dataset movies e customer_rating. \n",
        "# Este método recebe o nome da coluna que será definida como index e o parâmetro inplace=True para modificar o dataframe original.\n",
        "\n",
        "# A saída é um dataframe com o index definido.\n",
        "\n",
        "df_movies.set_index('Movie_Id', inplace=True)\n",
        "df_customers_rating.set_index('Movie_Id', inplace=True)"
      ]
    },
    {
      "cell_type": "code",
      "execution_count": null,
      "id": "36bbd393",
      "metadata": {
        "id": "36bbd393"
      },
      "outputs": [],
      "source": [
        "# Esta função recebe os dataframes que queremos combinar e o nome da coluna que será usada de referência para combinar os dados.\n",
        "\n",
        "# A saída é um dataframe com a junção dos dados.\n",
        "\n",
        "df = pd.merge(df_movies, df_customers_rating, on='Movie_Id')"
      ]
    },
    {
      "cell_type": "code",
      "execution_count": null,
      "id": "9491aee4",
      "metadata": {
        "id": "9491aee4",
        "outputId": "404fd50c-68bd-455e-94eb-7241b56fc732",
        "colab": {
          "base_uri": "https://localhost:8080/",
          "height": 237
        }
      },
      "outputs": [
        {
          "output_type": "execute_result",
          "data": {
            "text/plain": [
              "                       title/year  Cust_Id  Rating        Date\n",
              "Movie_Id                                                      \n",
              "1         (Dinosaur Planet, 2003)  1488844     3.0  2005-09-06\n",
              "1         (Dinosaur Planet, 2003)   822109     5.0  2005-05-13\n",
              "1         (Dinosaur Planet, 2003)   885013     4.0  2005-10-19\n",
              "1         (Dinosaur Planet, 2003)    30878     4.0  2005-12-26\n",
              "1         (Dinosaur Planet, 2003)   823519     3.0  2004-05-03"
            ],
            "text/html": [
              "\n",
              "  <div id=\"df-6d11b938-8f2a-449e-984f-06f6cb49072c\">\n",
              "    <div class=\"colab-df-container\">\n",
              "      <div>\n",
              "<style scoped>\n",
              "    .dataframe tbody tr th:only-of-type {\n",
              "        vertical-align: middle;\n",
              "    }\n",
              "\n",
              "    .dataframe tbody tr th {\n",
              "        vertical-align: top;\n",
              "    }\n",
              "\n",
              "    .dataframe thead th {\n",
              "        text-align: right;\n",
              "    }\n",
              "</style>\n",
              "<table border=\"1\" class=\"dataframe\">\n",
              "  <thead>\n",
              "    <tr style=\"text-align: right;\">\n",
              "      <th></th>\n",
              "      <th>title/year</th>\n",
              "      <th>Cust_Id</th>\n",
              "      <th>Rating</th>\n",
              "      <th>Date</th>\n",
              "    </tr>\n",
              "    <tr>\n",
              "      <th>Movie_Id</th>\n",
              "      <th></th>\n",
              "      <th></th>\n",
              "      <th></th>\n",
              "      <th></th>\n",
              "    </tr>\n",
              "  </thead>\n",
              "  <tbody>\n",
              "    <tr>\n",
              "      <th>1</th>\n",
              "      <td>(Dinosaur Planet, 2003)</td>\n",
              "      <td>1488844</td>\n",
              "      <td>3.0</td>\n",
              "      <td>2005-09-06</td>\n",
              "    </tr>\n",
              "    <tr>\n",
              "      <th>1</th>\n",
              "      <td>(Dinosaur Planet, 2003)</td>\n",
              "      <td>822109</td>\n",
              "      <td>5.0</td>\n",
              "      <td>2005-05-13</td>\n",
              "    </tr>\n",
              "    <tr>\n",
              "      <th>1</th>\n",
              "      <td>(Dinosaur Planet, 2003)</td>\n",
              "      <td>885013</td>\n",
              "      <td>4.0</td>\n",
              "      <td>2005-10-19</td>\n",
              "    </tr>\n",
              "    <tr>\n",
              "      <th>1</th>\n",
              "      <td>(Dinosaur Planet, 2003)</td>\n",
              "      <td>30878</td>\n",
              "      <td>4.0</td>\n",
              "      <td>2005-12-26</td>\n",
              "    </tr>\n",
              "    <tr>\n",
              "      <th>1</th>\n",
              "      <td>(Dinosaur Planet, 2003)</td>\n",
              "      <td>823519</td>\n",
              "      <td>3.0</td>\n",
              "      <td>2004-05-03</td>\n",
              "    </tr>\n",
              "  </tbody>\n",
              "</table>\n",
              "</div>\n",
              "      <button class=\"colab-df-convert\" onclick=\"convertToInteractive('df-6d11b938-8f2a-449e-984f-06f6cb49072c')\"\n",
              "              title=\"Convert this dataframe to an interactive table.\"\n",
              "              style=\"display:none;\">\n",
              "        \n",
              "  <svg xmlns=\"http://www.w3.org/2000/svg\" height=\"24px\"viewBox=\"0 0 24 24\"\n",
              "       width=\"24px\">\n",
              "    <path d=\"M0 0h24v24H0V0z\" fill=\"none\"/>\n",
              "    <path d=\"M18.56 5.44l.94 2.06.94-2.06 2.06-.94-2.06-.94-.94-2.06-.94 2.06-2.06.94zm-11 1L8.5 8.5l.94-2.06 2.06-.94-2.06-.94L8.5 2.5l-.94 2.06-2.06.94zm10 10l.94 2.06.94-2.06 2.06-.94-2.06-.94-.94-2.06-.94 2.06-2.06.94z\"/><path d=\"M17.41 7.96l-1.37-1.37c-.4-.4-.92-.59-1.43-.59-.52 0-1.04.2-1.43.59L10.3 9.45l-7.72 7.72c-.78.78-.78 2.05 0 2.83L4 21.41c.39.39.9.59 1.41.59.51 0 1.02-.2 1.41-.59l7.78-7.78 2.81-2.81c.8-.78.8-2.07 0-2.86zM5.41 20L4 18.59l7.72-7.72 1.47 1.35L5.41 20z\"/>\n",
              "  </svg>\n",
              "      </button>\n",
              "      \n",
              "  <style>\n",
              "    .colab-df-container {\n",
              "      display:flex;\n",
              "      flex-wrap:wrap;\n",
              "      gap: 12px;\n",
              "    }\n",
              "\n",
              "    .colab-df-convert {\n",
              "      background-color: #E8F0FE;\n",
              "      border: none;\n",
              "      border-radius: 50%;\n",
              "      cursor: pointer;\n",
              "      display: none;\n",
              "      fill: #1967D2;\n",
              "      height: 32px;\n",
              "      padding: 0 0 0 0;\n",
              "      width: 32px;\n",
              "    }\n",
              "\n",
              "    .colab-df-convert:hover {\n",
              "      background-color: #E2EBFA;\n",
              "      box-shadow: 0px 1px 2px rgba(60, 64, 67, 0.3), 0px 1px 3px 1px rgba(60, 64, 67, 0.15);\n",
              "      fill: #174EA6;\n",
              "    }\n",
              "\n",
              "    [theme=dark] .colab-df-convert {\n",
              "      background-color: #3B4455;\n",
              "      fill: #D2E3FC;\n",
              "    }\n",
              "\n",
              "    [theme=dark] .colab-df-convert:hover {\n",
              "      background-color: #434B5C;\n",
              "      box-shadow: 0px 1px 3px 1px rgba(0, 0, 0, 0.15);\n",
              "      filter: drop-shadow(0px 1px 2px rgba(0, 0, 0, 0.3));\n",
              "      fill: #FFFFFF;\n",
              "    }\n",
              "  </style>\n",
              "\n",
              "      <script>\n",
              "        const buttonEl =\n",
              "          document.querySelector('#df-6d11b938-8f2a-449e-984f-06f6cb49072c button.colab-df-convert');\n",
              "        buttonEl.style.display =\n",
              "          google.colab.kernel.accessAllowed ? 'block' : 'none';\n",
              "\n",
              "        async function convertToInteractive(key) {\n",
              "          const element = document.querySelector('#df-6d11b938-8f2a-449e-984f-06f6cb49072c');\n",
              "          const dataTable =\n",
              "            await google.colab.kernel.invokeFunction('convertToInteractive',\n",
              "                                                     [key], {});\n",
              "          if (!dataTable) return;\n",
              "\n",
              "          const docLinkHtml = 'Like what you see? Visit the ' +\n",
              "            '<a target=\"_blank\" href=https://colab.research.google.com/notebooks/data_table.ipynb>data table notebook</a>'\n",
              "            + ' to learn more about interactive tables.';\n",
              "          element.innerHTML = '';\n",
              "          dataTable['output_type'] = 'display_data';\n",
              "          await google.colab.output.renderOutput(dataTable, element);\n",
              "          const docLink = document.createElement('div');\n",
              "          docLink.innerHTML = docLinkHtml;\n",
              "          element.appendChild(docLink);\n",
              "        }\n",
              "      </script>\n",
              "    </div>\n",
              "  </div>\n",
              "  "
            ]
          },
          "metadata": {},
          "execution_count": 16
        }
      ],
      "source": [
        "# Visualizando o merge dos dataframes.\n",
        "\n",
        "# Uso do método head() para visualizar os primeiros 5 registros do dataframe.\n",
        "\n",
        "# A saída é um dataframe com os primeiros 5 registros.\n",
        "\n",
        "df.head()"
      ]
    },
    {
      "cell_type": "markdown",
      "id": "20cc6184",
      "metadata": {
        "id": "20cc6184"
      },
      "source": [
        "## Perguntas"
      ]
    },
    {
      "cell_type": "markdown",
      "id": "3137c094",
      "metadata": {
        "id": "3137c094"
      },
      "source": [
        "### 1.1. Quantos filmes estão disponíveis no dataset?"
      ]
    },
    {
      "cell_type": "code",
      "execution_count": null,
      "id": "4270030a",
      "metadata": {
        "id": "4270030a",
        "outputId": "6a82babd-eab1-4f59-d603-cb9bca166717",
        "colab": {
          "base_uri": "https://localhost:8080/"
        }
      },
      "outputs": [
        {
          "output_type": "execute_result",
          "data": {
            "text/plain": [
              "4498"
            ]
          },
          "metadata": {},
          "execution_count": 17
        }
      ],
      "source": [
        "# Uso do método nunique(), o qual verifica a unicidade de cada valor de uma coluna. \n",
        "# Neste caso, estamos avaliando a coluna 'title/year' do dataframe df_movies.\n",
        "\n",
        "# A saída é um número inteiro.\n",
        "\n",
        "df_movies['title/year'].nunique()"
      ]
    },
    {
      "cell_type": "markdown",
      "id": "8d5d5fcc",
      "metadata": {
        "id": "8d5d5fcc"
      },
      "source": [
        "df_movies.shape nos mostra 4499 linhas, porém o método nunique() nos retorna 4498, mostrando que temos um filme com o mesmo nome e ano, porém com Id's diferentes. Abaixo, vamos achar qual é este filme."
      ]
    },
    {
      "cell_type": "code",
      "execution_count": null,
      "id": "625242cf",
      "metadata": {
        "id": "625242cf",
        "outputId": "e844fe7f-ffb0-47c4-9b1c-24cf311fe254",
        "colab": {
          "base_uri": "https://localhost:8080/",
          "height": 112
        }
      },
      "outputs": [
        {
          "output_type": "execute_result",
          "data": {
            "text/plain": [
              "                 title/year\n",
              "Movie_Id                   \n",
              "4005      (Dr. Quinn, 1993)"
            ],
            "text/html": [
              "\n",
              "  <div id=\"df-4efa4041-9a7f-47e4-a314-44a34f029bfa\">\n",
              "    <div class=\"colab-df-container\">\n",
              "      <div>\n",
              "<style scoped>\n",
              "    .dataframe tbody tr th:only-of-type {\n",
              "        vertical-align: middle;\n",
              "    }\n",
              "\n",
              "    .dataframe tbody tr th {\n",
              "        vertical-align: top;\n",
              "    }\n",
              "\n",
              "    .dataframe thead th {\n",
              "        text-align: right;\n",
              "    }\n",
              "</style>\n",
              "<table border=\"1\" class=\"dataframe\">\n",
              "  <thead>\n",
              "    <tr style=\"text-align: right;\">\n",
              "      <th></th>\n",
              "      <th>title/year</th>\n",
              "    </tr>\n",
              "    <tr>\n",
              "      <th>Movie_Id</th>\n",
              "      <th></th>\n",
              "    </tr>\n",
              "  </thead>\n",
              "  <tbody>\n",
              "    <tr>\n",
              "      <th>4005</th>\n",
              "      <td>(Dr. Quinn, 1993)</td>\n",
              "    </tr>\n",
              "  </tbody>\n",
              "</table>\n",
              "</div>\n",
              "      <button class=\"colab-df-convert\" onclick=\"convertToInteractive('df-4efa4041-9a7f-47e4-a314-44a34f029bfa')\"\n",
              "              title=\"Convert this dataframe to an interactive table.\"\n",
              "              style=\"display:none;\">\n",
              "        \n",
              "  <svg xmlns=\"http://www.w3.org/2000/svg\" height=\"24px\"viewBox=\"0 0 24 24\"\n",
              "       width=\"24px\">\n",
              "    <path d=\"M0 0h24v24H0V0z\" fill=\"none\"/>\n",
              "    <path d=\"M18.56 5.44l.94 2.06.94-2.06 2.06-.94-2.06-.94-.94-2.06-.94 2.06-2.06.94zm-11 1L8.5 8.5l.94-2.06 2.06-.94-2.06-.94L8.5 2.5l-.94 2.06-2.06.94zm10 10l.94 2.06.94-2.06 2.06-.94-2.06-.94-.94-2.06-.94 2.06-2.06.94z\"/><path d=\"M17.41 7.96l-1.37-1.37c-.4-.4-.92-.59-1.43-.59-.52 0-1.04.2-1.43.59L10.3 9.45l-7.72 7.72c-.78.78-.78 2.05 0 2.83L4 21.41c.39.39.9.59 1.41.59.51 0 1.02-.2 1.41-.59l7.78-7.78 2.81-2.81c.8-.78.8-2.07 0-2.86zM5.41 20L4 18.59l7.72-7.72 1.47 1.35L5.41 20z\"/>\n",
              "  </svg>\n",
              "      </button>\n",
              "      \n",
              "  <style>\n",
              "    .colab-df-container {\n",
              "      display:flex;\n",
              "      flex-wrap:wrap;\n",
              "      gap: 12px;\n",
              "    }\n",
              "\n",
              "    .colab-df-convert {\n",
              "      background-color: #E8F0FE;\n",
              "      border: none;\n",
              "      border-radius: 50%;\n",
              "      cursor: pointer;\n",
              "      display: none;\n",
              "      fill: #1967D2;\n",
              "      height: 32px;\n",
              "      padding: 0 0 0 0;\n",
              "      width: 32px;\n",
              "    }\n",
              "\n",
              "    .colab-df-convert:hover {\n",
              "      background-color: #E2EBFA;\n",
              "      box-shadow: 0px 1px 2px rgba(60, 64, 67, 0.3), 0px 1px 3px 1px rgba(60, 64, 67, 0.15);\n",
              "      fill: #174EA6;\n",
              "    }\n",
              "\n",
              "    [theme=dark] .colab-df-convert {\n",
              "      background-color: #3B4455;\n",
              "      fill: #D2E3FC;\n",
              "    }\n",
              "\n",
              "    [theme=dark] .colab-df-convert:hover {\n",
              "      background-color: #434B5C;\n",
              "      box-shadow: 0px 1px 3px 1px rgba(0, 0, 0, 0.15);\n",
              "      filter: drop-shadow(0px 1px 2px rgba(0, 0, 0, 0.3));\n",
              "      fill: #FFFFFF;\n",
              "    }\n",
              "  </style>\n",
              "\n",
              "      <script>\n",
              "        const buttonEl =\n",
              "          document.querySelector('#df-4efa4041-9a7f-47e4-a314-44a34f029bfa button.colab-df-convert');\n",
              "        buttonEl.style.display =\n",
              "          google.colab.kernel.accessAllowed ? 'block' : 'none';\n",
              "\n",
              "        async function convertToInteractive(key) {\n",
              "          const element = document.querySelector('#df-4efa4041-9a7f-47e4-a314-44a34f029bfa');\n",
              "          const dataTable =\n",
              "            await google.colab.kernel.invokeFunction('convertToInteractive',\n",
              "                                                     [key], {});\n",
              "          if (!dataTable) return;\n",
              "\n",
              "          const docLinkHtml = 'Like what you see? Visit the ' +\n",
              "            '<a target=\"_blank\" href=https://colab.research.google.com/notebooks/data_table.ipynb>data table notebook</a>'\n",
              "            + ' to learn more about interactive tables.';\n",
              "          element.innerHTML = '';\n",
              "          dataTable['output_type'] = 'display_data';\n",
              "          await google.colab.output.renderOutput(dataTable, element);\n",
              "          const docLink = document.createElement('div');\n",
              "          docLink.innerHTML = docLinkHtml;\n",
              "          element.appendChild(docLink);\n",
              "        }\n",
              "      </script>\n",
              "    </div>\n",
              "  </div>\n",
              "  "
            ]
          },
          "metadata": {},
          "execution_count": 18
        }
      ],
      "source": [
        "# Usamos o método loc() que recebe a coluna 'title/year' de df_movies\n",
        "# O método loc() faz uma busca por linhas que satisfaçam a condição.\n",
        "\n",
        "# O método duplicated() procura por valores duplicados \n",
        "# A saída é um dataframe com as linhas recebendo valores boolean\n",
        "\n",
        "# A saída é um dataframe com as linhas que satisfazem a condição.\n",
        "\n",
        "df_movies.loc[df_movies['title/year'].duplicated()==True]"
      ]
    },
    {
      "cell_type": "code",
      "execution_count": null,
      "id": "5dae0735",
      "metadata": {
        "id": "5dae0735",
        "outputId": "93f0c8ac-7ced-4dd2-fd2a-62299c197abb",
        "colab": {
          "base_uri": "https://localhost:8080/",
          "height": 143
        }
      },
      "outputs": [
        {
          "output_type": "execute_result",
          "data": {
            "text/plain": [
              "                 title/year\n",
              "Movie_Id                   \n",
              "350       (Dr. Quinn, 1993)\n",
              "4005      (Dr. Quinn, 1993)"
            ],
            "text/html": [
              "\n",
              "  <div id=\"df-7ce6ed98-3406-4db6-8c70-9955fe49f3a4\">\n",
              "    <div class=\"colab-df-container\">\n",
              "      <div>\n",
              "<style scoped>\n",
              "    .dataframe tbody tr th:only-of-type {\n",
              "        vertical-align: middle;\n",
              "    }\n",
              "\n",
              "    .dataframe tbody tr th {\n",
              "        vertical-align: top;\n",
              "    }\n",
              "\n",
              "    .dataframe thead th {\n",
              "        text-align: right;\n",
              "    }\n",
              "</style>\n",
              "<table border=\"1\" class=\"dataframe\">\n",
              "  <thead>\n",
              "    <tr style=\"text-align: right;\">\n",
              "      <th></th>\n",
              "      <th>title/year</th>\n",
              "    </tr>\n",
              "    <tr>\n",
              "      <th>Movie_Id</th>\n",
              "      <th></th>\n",
              "    </tr>\n",
              "  </thead>\n",
              "  <tbody>\n",
              "    <tr>\n",
              "      <th>350</th>\n",
              "      <td>(Dr. Quinn, 1993)</td>\n",
              "    </tr>\n",
              "    <tr>\n",
              "      <th>4005</th>\n",
              "      <td>(Dr. Quinn, 1993)</td>\n",
              "    </tr>\n",
              "  </tbody>\n",
              "</table>\n",
              "</div>\n",
              "      <button class=\"colab-df-convert\" onclick=\"convertToInteractive('df-7ce6ed98-3406-4db6-8c70-9955fe49f3a4')\"\n",
              "              title=\"Convert this dataframe to an interactive table.\"\n",
              "              style=\"display:none;\">\n",
              "        \n",
              "  <svg xmlns=\"http://www.w3.org/2000/svg\" height=\"24px\"viewBox=\"0 0 24 24\"\n",
              "       width=\"24px\">\n",
              "    <path d=\"M0 0h24v24H0V0z\" fill=\"none\"/>\n",
              "    <path d=\"M18.56 5.44l.94 2.06.94-2.06 2.06-.94-2.06-.94-.94-2.06-.94 2.06-2.06.94zm-11 1L8.5 8.5l.94-2.06 2.06-.94-2.06-.94L8.5 2.5l-.94 2.06-2.06.94zm10 10l.94 2.06.94-2.06 2.06-.94-2.06-.94-.94-2.06-.94 2.06-2.06.94z\"/><path d=\"M17.41 7.96l-1.37-1.37c-.4-.4-.92-.59-1.43-.59-.52 0-1.04.2-1.43.59L10.3 9.45l-7.72 7.72c-.78.78-.78 2.05 0 2.83L4 21.41c.39.39.9.59 1.41.59.51 0 1.02-.2 1.41-.59l7.78-7.78 2.81-2.81c.8-.78.8-2.07 0-2.86zM5.41 20L4 18.59l7.72-7.72 1.47 1.35L5.41 20z\"/>\n",
              "  </svg>\n",
              "      </button>\n",
              "      \n",
              "  <style>\n",
              "    .colab-df-container {\n",
              "      display:flex;\n",
              "      flex-wrap:wrap;\n",
              "      gap: 12px;\n",
              "    }\n",
              "\n",
              "    .colab-df-convert {\n",
              "      background-color: #E8F0FE;\n",
              "      border: none;\n",
              "      border-radius: 50%;\n",
              "      cursor: pointer;\n",
              "      display: none;\n",
              "      fill: #1967D2;\n",
              "      height: 32px;\n",
              "      padding: 0 0 0 0;\n",
              "      width: 32px;\n",
              "    }\n",
              "\n",
              "    .colab-df-convert:hover {\n",
              "      background-color: #E2EBFA;\n",
              "      box-shadow: 0px 1px 2px rgba(60, 64, 67, 0.3), 0px 1px 3px 1px rgba(60, 64, 67, 0.15);\n",
              "      fill: #174EA6;\n",
              "    }\n",
              "\n",
              "    [theme=dark] .colab-df-convert {\n",
              "      background-color: #3B4455;\n",
              "      fill: #D2E3FC;\n",
              "    }\n",
              "\n",
              "    [theme=dark] .colab-df-convert:hover {\n",
              "      background-color: #434B5C;\n",
              "      box-shadow: 0px 1px 3px 1px rgba(0, 0, 0, 0.15);\n",
              "      filter: drop-shadow(0px 1px 2px rgba(0, 0, 0, 0.3));\n",
              "      fill: #FFFFFF;\n",
              "    }\n",
              "  </style>\n",
              "\n",
              "      <script>\n",
              "        const buttonEl =\n",
              "          document.querySelector('#df-7ce6ed98-3406-4db6-8c70-9955fe49f3a4 button.colab-df-convert');\n",
              "        buttonEl.style.display =\n",
              "          google.colab.kernel.accessAllowed ? 'block' : 'none';\n",
              "\n",
              "        async function convertToInteractive(key) {\n",
              "          const element = document.querySelector('#df-7ce6ed98-3406-4db6-8c70-9955fe49f3a4');\n",
              "          const dataTable =\n",
              "            await google.colab.kernel.invokeFunction('convertToInteractive',\n",
              "                                                     [key], {});\n",
              "          if (!dataTable) return;\n",
              "\n",
              "          const docLinkHtml = 'Like what you see? Visit the ' +\n",
              "            '<a target=\"_blank\" href=https://colab.research.google.com/notebooks/data_table.ipynb>data table notebook</a>'\n",
              "            + ' to learn more about interactive tables.';\n",
              "          element.innerHTML = '';\n",
              "          dataTable['output_type'] = 'display_data';\n",
              "          await google.colab.output.renderOutput(dataTable, element);\n",
              "          const docLink = document.createElement('div');\n",
              "          docLink.innerHTML = docLinkHtml;\n",
              "          element.appendChild(docLink);\n",
              "        }\n",
              "      </script>\n",
              "    </div>\n",
              "  </div>\n",
              "  "
            ]
          },
          "metadata": {},
          "execution_count": 19
        }
      ],
      "source": [
        "# Usamos o método loc() que recebe a coluna 'title/year' de df_movies\n",
        "# O método loc() faz uma busca por linhas que satisfaçam a condição.\n",
        "\n",
        "# A saída é um dataframe com as linhas que satisfazem a condição.\n",
        "\n",
        "df_movies.loc[df_movies['title/year'] == '(Dr. Quinn, 1993)']"
      ]
    },
    {
      "cell_type": "markdown",
      "id": "cfaa6058",
      "metadata": {
        "id": "cfaa6058"
      },
      "source": [
        "Portanto, temos 4498 filmes registrados no nosso dataset de 4499 linhas, sendo um deles repetido."
      ]
    },
    {
      "cell_type": "markdown",
      "id": "fe0883a1",
      "metadata": {
        "id": "fe0883a1"
      },
      "source": [
        "### 1.2. Qual é o nome dos 5 filmes com melhor média de avaliação?"
      ]
    },
    {
      "cell_type": "code",
      "execution_count": null,
      "id": "91f7ac3a",
      "metadata": {
        "id": "91f7ac3a",
        "outputId": "4ceb1dea-25d7-4e3d-bff9-1fa3fee97e73",
        "colab": {
          "base_uri": "https://localhost:8080/"
        }
      },
      "outputs": [
        {
          "output_type": "execute_result",
          "data": {
            "text/plain": [
              "title/year\n",
              "(Lost: Season 1, 2004)                                                                 4.670989\n",
              "(Ghost in the Shell: Stand Alone Complex: 2nd Gig, 2005)                               4.586364\n",
              "(The Simpsons: Season 6, 1994)                                                         4.581296\n",
              "(Inu-Yasha, 2000)                                                                      4.554434\n",
              "(Lord of the Rings: The Return of the King: Extended Edition: Bonus Material, 2003)    4.552000\n",
              "Name: Rating, dtype: float64"
            ]
          },
          "metadata": {},
          "execution_count": 20
        }
      ],
      "source": [
        "# Uso do método groupby() para agrupar os dados por coluna. Neste caso, estamos agrupando os dados por coluna 'title/year'.\n",
        "\n",
        "# Aplicando o método mean() para calcular a média da coluna 'Rating'.\n",
        "\n",
        "# sort_values() para ordenar os dados pela média, recebendo o parâmetro ascending=False para ordenar de forma decrescente.\n",
        "\n",
        "# head() para visualizar os primeiros 5 registros do dataframe.\n",
        "\n",
        "# A saída é uma Series com os dados de 'title/year' e suas respectivas médias.\n",
        "\n",
        "df.groupby('title/year')['Rating'].mean().sort_values(ascending=False).head()\n"
      ]
    },
    {
      "cell_type": "markdown",
      "id": "e121b60c",
      "metadata": {
        "id": "e121b60c"
      },
      "source": [
        "Acima estão representados os 5 filmes com maior média de avaliação, seus respectivos nomes e médias."
      ]
    },
    {
      "cell_type": "markdown",
      "id": "00f909c1",
      "metadata": {
        "id": "00f909c1"
      },
      "source": [
        "### 1.3. Quais os 5 anos com menos lançamentos de filmes?"
      ]
    },
    {
      "cell_type": "code",
      "execution_count": null,
      "id": "f8b42f22",
      "metadata": {
        "id": "f8b42f22",
        "outputId": "d4e7b775-e955-4865-a4cd-25c8ab4acfc6",
        "colab": {
          "base_uri": "https://localhost:8080/"
        }
      },
      "outputs": [
        {
          "output_type": "execute_result",
          "data": {
            "text/plain": [
              "1917    1\n",
              "1922    1\n",
              "1926    1\n",
              "1915    1\n",
              "1924    2\n",
              "1916    2\n",
              "1931    2\n",
              "1918    2\n",
              "1929    2\n",
              "1933    3\n",
              "Name: title/year, dtype: int64"
            ]
          },
          "metadata": {},
          "execution_count": 21
        }
      ],
      "source": [
        "# Aplicação do método apply(), o qual aplica uma função em cada valor da coluna 'title/year' de df_movies.\n",
        "\n",
        "# Este método recebe uma função lambda, a qual recebe um parâmetro 'row' que é uma linha do dataframe e retorna\n",
        "# uma string sem os caracteres '(' e ')'.\n",
        "# Usamos o método split() para transformar a string em uma lista com base no caracter ','. O ano esta no índice 1 da lista.\n",
        "\n",
        "# Após isto, value_counts() retorna uma Series com a quantidade de repeticões de cada valor.\n",
        "\n",
        "# O método sort_values() ordena a Series em ordem crescente, de modo que ao aplicarmos o método head() ele retorna\n",
        "# os 5 primeiros valores, que neste caso são os anos com menos lançamentos de filmes.\n",
        "\n",
        "# Função lambda:\n",
        "# Exemplo de entrada: '(Inu-Yasha, 2000)' Exemplo de saída: '2000'\n",
        "\n",
        "# A saída é uma Series com os anos com menos lançamentos de filmes.\n",
        "\n",
        "df_movies['title/year'].apply(\n",
        "    lambda row: row.replace('(', '').replace(')', '').split(', ')[1]\n",
        "    ).value_counts().sort_values().head(10)"
      ]
    },
    {
      "cell_type": "markdown",
      "id": "0155f249",
      "metadata": {
        "id": "0155f249"
      },
      "source": [
        "Temos 4 anos com apenas 1 lançamento, os quais são 1915, 1917, 1922 e 1926. Para a 5ª colocação, podemos escolher os anos de 1916, 1918, 1924, 1929 e 1931, os quais houveram apenas 2 lançamentos."
      ]
    },
    {
      "cell_type": "markdown",
      "id": "0b0db251",
      "metadata": {
        "id": "0b0db251"
      },
      "source": [
        "### 1.4. Quantos filmes que possuem avaliação maior ou igual a 4.7, considerando apenas os filmes avaliados na última data de avaliação do dataset? "
      ]
    },
    {
      "cell_type": "code",
      "execution_count": null,
      "id": "8f2a4b08",
      "metadata": {
        "id": "8f2a4b08"
      },
      "outputs": [],
      "source": [
        "# Uso do método astype() para transformar o tipo de dado da coluna 'Date'.\n",
        "# Este método recebe o tipo de dado que desejamos transformar. Neste caso, estamos\n",
        "# transformando o tipo de dado da coluna 'Date' de object para datetime.\n",
        "\n",
        "# A saída é um dataframe com o tipo de dado da coluna 'Date' transformado.\n",
        "\n",
        "df['Date'] = df['Date'].astype('datetime64[ns]')"
      ]
    },
    {
      "cell_type": "code",
      "execution_count": null,
      "id": "6db22ef5",
      "metadata": {
        "id": "6db22ef5",
        "outputId": "a594aa52-f74b-42b1-88a4-19048155fbf9",
        "colab": {
          "base_uri": "https://localhost:8080/"
        }
      },
      "outputs": [
        {
          "output_type": "execute_result",
          "data": {
            "text/plain": [
              "Timestamp('2005-12-31 00:00:00')"
            ]
          },
          "metadata": {},
          "execution_count": 23
        }
      ],
      "source": [
        "# Usamos o método max() na coluna Date, para obter o maior valor (data mais recente).\n",
        "\n",
        "# A saída é o maior valor encontrado na coluna.\n",
        "\n",
        "df['Date'].max()"
      ]
    },
    {
      "cell_type": "code",
      "execution_count": null,
      "id": "22720c38",
      "metadata": {
        "id": "22720c38"
      },
      "outputs": [],
      "source": [
        "# Usamos o método loc() que recebe a coluna 'Date' de df, o operador '==' e a data mais recente de avaliação.\n",
        "# O método loc() faz uma busca por linhas que satisfaçam a condição.\n",
        "\n",
        "# A saída é um dataframe com as linhas que satisfazem a condição.\n",
        "\n",
        "last_date = df.loc[df['Date'] == df['Date'].max()]"
      ]
    },
    {
      "cell_type": "markdown",
      "id": "ba388321",
      "metadata": {
        "id": "ba388321"
      },
      "source": [
        "Para notas de filmes, a avaliação correta é a média das notas dadas pelos críticos, então, vamos fazer isto."
      ]
    },
    {
      "cell_type": "code",
      "execution_count": null,
      "id": "28cecba0",
      "metadata": {
        "id": "28cecba0"
      },
      "outputs": [],
      "source": [
        "# Uso do método groupby() para agrupar os dados por coluna. Neste caso, estamos agrupando os dados por coluna 'title/year'.\n",
        "\n",
        "# Aplicando o método mean() para calcular a média das colunas numéricas\n",
        "\n",
        "# A saída é um dataframe com as colunas 'title/year' e colunas numéricas com as médias.\n",
        "\n",
        "last_date_mean_rating = last_date.groupby('title/year').mean()"
      ]
    },
    {
      "cell_type": "code",
      "execution_count": null,
      "id": "e83e10b6",
      "metadata": {
        "id": "e83e10b6",
        "outputId": "7c06981c-7e52-48b7-86c3-d3c76905c82a",
        "colab": {
          "base_uri": "https://localhost:8080/",
          "height": 237
        }
      },
      "outputs": [
        {
          "output_type": "execute_result",
          "data": {
            "text/plain": [
              "                                                         Cust_Id    Rating\n",
              "title/year                                                                \n",
              "(10 Things I Hate About You, 1999)                  8.846597e+05  3.500000\n",
              "(101 Dalmatians II: Patch's London Adventure, 2...  1.021690e+06  3.750000\n",
              "(11:14, 2005)                                       1.403605e+06  3.166667\n",
              "(13 Ghosts, 1960)                                   1.089690e+06  4.500000\n",
              "(1942: A Love Story, 1993)                          3.118410e+05  4.000000"
            ],
            "text/html": [
              "\n",
              "  <div id=\"df-60ffe30a-1da6-4e2d-a279-6b39531d3ec0\">\n",
              "    <div class=\"colab-df-container\">\n",
              "      <div>\n",
              "<style scoped>\n",
              "    .dataframe tbody tr th:only-of-type {\n",
              "        vertical-align: middle;\n",
              "    }\n",
              "\n",
              "    .dataframe tbody tr th {\n",
              "        vertical-align: top;\n",
              "    }\n",
              "\n",
              "    .dataframe thead th {\n",
              "        text-align: right;\n",
              "    }\n",
              "</style>\n",
              "<table border=\"1\" class=\"dataframe\">\n",
              "  <thead>\n",
              "    <tr style=\"text-align: right;\">\n",
              "      <th></th>\n",
              "      <th>Cust_Id</th>\n",
              "      <th>Rating</th>\n",
              "    </tr>\n",
              "    <tr>\n",
              "      <th>title/year</th>\n",
              "      <th></th>\n",
              "      <th></th>\n",
              "    </tr>\n",
              "  </thead>\n",
              "  <tbody>\n",
              "    <tr>\n",
              "      <th>(10 Things I Hate About You, 1999)</th>\n",
              "      <td>8.846597e+05</td>\n",
              "      <td>3.500000</td>\n",
              "    </tr>\n",
              "    <tr>\n",
              "      <th>(101 Dalmatians II: Patch's London Adventure, 2003)</th>\n",
              "      <td>1.021690e+06</td>\n",
              "      <td>3.750000</td>\n",
              "    </tr>\n",
              "    <tr>\n",
              "      <th>(11:14, 2005)</th>\n",
              "      <td>1.403605e+06</td>\n",
              "      <td>3.166667</td>\n",
              "    </tr>\n",
              "    <tr>\n",
              "      <th>(13 Ghosts, 1960)</th>\n",
              "      <td>1.089690e+06</td>\n",
              "      <td>4.500000</td>\n",
              "    </tr>\n",
              "    <tr>\n",
              "      <th>(1942: A Love Story, 1993)</th>\n",
              "      <td>3.118410e+05</td>\n",
              "      <td>4.000000</td>\n",
              "    </tr>\n",
              "  </tbody>\n",
              "</table>\n",
              "</div>\n",
              "      <button class=\"colab-df-convert\" onclick=\"convertToInteractive('df-60ffe30a-1da6-4e2d-a279-6b39531d3ec0')\"\n",
              "              title=\"Convert this dataframe to an interactive table.\"\n",
              "              style=\"display:none;\">\n",
              "        \n",
              "  <svg xmlns=\"http://www.w3.org/2000/svg\" height=\"24px\"viewBox=\"0 0 24 24\"\n",
              "       width=\"24px\">\n",
              "    <path d=\"M0 0h24v24H0V0z\" fill=\"none\"/>\n",
              "    <path d=\"M18.56 5.44l.94 2.06.94-2.06 2.06-.94-2.06-.94-.94-2.06-.94 2.06-2.06.94zm-11 1L8.5 8.5l.94-2.06 2.06-.94-2.06-.94L8.5 2.5l-.94 2.06-2.06.94zm10 10l.94 2.06.94-2.06 2.06-.94-2.06-.94-.94-2.06-.94 2.06-2.06.94z\"/><path d=\"M17.41 7.96l-1.37-1.37c-.4-.4-.92-.59-1.43-.59-.52 0-1.04.2-1.43.59L10.3 9.45l-7.72 7.72c-.78.78-.78 2.05 0 2.83L4 21.41c.39.39.9.59 1.41.59.51 0 1.02-.2 1.41-.59l7.78-7.78 2.81-2.81c.8-.78.8-2.07 0-2.86zM5.41 20L4 18.59l7.72-7.72 1.47 1.35L5.41 20z\"/>\n",
              "  </svg>\n",
              "      </button>\n",
              "      \n",
              "  <style>\n",
              "    .colab-df-container {\n",
              "      display:flex;\n",
              "      flex-wrap:wrap;\n",
              "      gap: 12px;\n",
              "    }\n",
              "\n",
              "    .colab-df-convert {\n",
              "      background-color: #E8F0FE;\n",
              "      border: none;\n",
              "      border-radius: 50%;\n",
              "      cursor: pointer;\n",
              "      display: none;\n",
              "      fill: #1967D2;\n",
              "      height: 32px;\n",
              "      padding: 0 0 0 0;\n",
              "      width: 32px;\n",
              "    }\n",
              "\n",
              "    .colab-df-convert:hover {\n",
              "      background-color: #E2EBFA;\n",
              "      box-shadow: 0px 1px 2px rgba(60, 64, 67, 0.3), 0px 1px 3px 1px rgba(60, 64, 67, 0.15);\n",
              "      fill: #174EA6;\n",
              "    }\n",
              "\n",
              "    [theme=dark] .colab-df-convert {\n",
              "      background-color: #3B4455;\n",
              "      fill: #D2E3FC;\n",
              "    }\n",
              "\n",
              "    [theme=dark] .colab-df-convert:hover {\n",
              "      background-color: #434B5C;\n",
              "      box-shadow: 0px 1px 3px 1px rgba(0, 0, 0, 0.15);\n",
              "      filter: drop-shadow(0px 1px 2px rgba(0, 0, 0, 0.3));\n",
              "      fill: #FFFFFF;\n",
              "    }\n",
              "  </style>\n",
              "\n",
              "      <script>\n",
              "        const buttonEl =\n",
              "          document.querySelector('#df-60ffe30a-1da6-4e2d-a279-6b39531d3ec0 button.colab-df-convert');\n",
              "        buttonEl.style.display =\n",
              "          google.colab.kernel.accessAllowed ? 'block' : 'none';\n",
              "\n",
              "        async function convertToInteractive(key) {\n",
              "          const element = document.querySelector('#df-60ffe30a-1da6-4e2d-a279-6b39531d3ec0');\n",
              "          const dataTable =\n",
              "            await google.colab.kernel.invokeFunction('convertToInteractive',\n",
              "                                                     [key], {});\n",
              "          if (!dataTable) return;\n",
              "\n",
              "          const docLinkHtml = 'Like what you see? Visit the ' +\n",
              "            '<a target=\"_blank\" href=https://colab.research.google.com/notebooks/data_table.ipynb>data table notebook</a>'\n",
              "            + ' to learn more about interactive tables.';\n",
              "          element.innerHTML = '';\n",
              "          dataTable['output_type'] = 'display_data';\n",
              "          await google.colab.output.renderOutput(dataTable, element);\n",
              "          const docLink = document.createElement('div');\n",
              "          docLink.innerHTML = docLinkHtml;\n",
              "          element.appendChild(docLink);\n",
              "        }\n",
              "      </script>\n",
              "    </div>\n",
              "  </div>\n",
              "  "
            ]
          },
          "metadata": {},
          "execution_count": 26
        }
      ],
      "source": [
        "# Visualizando o dataframe last_date_mean_rating.\n",
        "\n",
        "# Uso do método head() para visualizar os primeiros 5 registros do dataframe.\n",
        "\n",
        "# A saída é um dataframe com os primeiros 5 registros.\n",
        "\n",
        "last_date_mean_rating.head()"
      ]
    },
    {
      "cell_type": "code",
      "execution_count": null,
      "id": "cf35b02a",
      "metadata": {
        "id": "cf35b02a"
      },
      "outputs": [],
      "source": [
        "# Uso do método drop() para remover a coluna 'Cust_Id' do dataframe, visto que \n",
        "# a média desta coluna não nos interessa e não há sentido em média de Id.\n",
        "\n",
        "# O método drop() recebe como parâmetro o nome da coluna que será removida e o parâmetro inplace=True para modificar o dataframe original.\n",
        "\n",
        "# A saída é um dataframe com a coluna 'Cust_Id' removida.\n",
        "\n",
        "last_date_mean_rating.drop(columns=['Cust_Id'], inplace=True)"
      ]
    },
    {
      "cell_type": "code",
      "execution_count": null,
      "id": "1b96eb6e",
      "metadata": {
        "id": "1b96eb6e",
        "outputId": "32b4e529-2677-4244-f437-7951b7638ccd",
        "colab": {
          "base_uri": "https://localhost:8080/"
        }
      },
      "outputs": [
        {
          "output_type": "execute_result",
          "data": {
            "text/plain": [
              "(195, 1)"
            ]
          },
          "metadata": {},
          "execution_count": 28
        }
      ],
      "source": [
        "# Uso do método loc() o qual seleciona as linhas que satisfazem a condição.\n",
        "# Este método recebe como parâmetros o nome da coluna e o valor que será comparado.\n",
        "\n",
        "# Uso do método shape para obter o número de linhas e colunas do dataframe.\n",
        "# A saída é um número inteiro.\n",
        "\n",
        "last_date_mean_rating = last_date_mean_rating.loc[last_date_mean_rating['Rating'] >= 4.7]\n",
        "last_date_mean_rating.shape"
      ]
    },
    {
      "cell_type": "markdown",
      "id": "d7e89ff3",
      "metadata": {
        "id": "d7e89ff3"
      },
      "source": [
        "195 filmes possuem avaliação média maior ou igual a 4.7."
      ]
    },
    {
      "cell_type": "markdown",
      "id": "dfefcd7e",
      "metadata": {
        "id": "dfefcd7e"
      },
      "source": [
        "### 1.5. Dos filmes encontrados na questão anterior, quais são os 10 filmes com as piores notas e quais as notas?"
      ]
    },
    {
      "cell_type": "code",
      "execution_count": null,
      "id": "ddca53d4",
      "metadata": {
        "id": "ddca53d4",
        "outputId": "640afaa6-c2b3-420e-cff7-4599c138391e",
        "colab": {
          "base_uri": "https://localhost:8080/",
          "height": 394
        }
      },
      "outputs": [
        {
          "output_type": "execute_result",
          "data": {
            "text/plain": [
              "                                           Rating\n",
              "title/year                                       \n",
              "(Spirited Away, 2002)                    4.714286\n",
              "(SpongeBob SquarePants: Season 3, 2002)  4.750000\n",
              "(The Twilight Zone: Vol. 41, 1960)       4.750000\n",
              "(Absolutely Fabulous: Series 2, 1994)    4.750000\n",
              "(Gilmore Girls: Season 3, 2002)          4.750000\n",
              "(The Twilight Zone: Vol. 15, 1963)       4.750000\n",
              "(Pete's Dragon, 1977)                    4.750000\n",
              "(An Evening With Kevin Smith, 2002)      4.750000\n",
              "(Curb Your Enthusiasm: Season 3, 2002)   4.800000\n",
              "(In the Mood for Love, 2001)             4.800000"
            ],
            "text/html": [
              "\n",
              "  <div id=\"df-96947d5a-1a92-4469-bf8b-eb90c04945fa\">\n",
              "    <div class=\"colab-df-container\">\n",
              "      <div>\n",
              "<style scoped>\n",
              "    .dataframe tbody tr th:only-of-type {\n",
              "        vertical-align: middle;\n",
              "    }\n",
              "\n",
              "    .dataframe tbody tr th {\n",
              "        vertical-align: top;\n",
              "    }\n",
              "\n",
              "    .dataframe thead th {\n",
              "        text-align: right;\n",
              "    }\n",
              "</style>\n",
              "<table border=\"1\" class=\"dataframe\">\n",
              "  <thead>\n",
              "    <tr style=\"text-align: right;\">\n",
              "      <th></th>\n",
              "      <th>Rating</th>\n",
              "    </tr>\n",
              "    <tr>\n",
              "      <th>title/year</th>\n",
              "      <th></th>\n",
              "    </tr>\n",
              "  </thead>\n",
              "  <tbody>\n",
              "    <tr>\n",
              "      <th>(Spirited Away, 2002)</th>\n",
              "      <td>4.714286</td>\n",
              "    </tr>\n",
              "    <tr>\n",
              "      <th>(SpongeBob SquarePants: Season 3, 2002)</th>\n",
              "      <td>4.750000</td>\n",
              "    </tr>\n",
              "    <tr>\n",
              "      <th>(The Twilight Zone: Vol. 41, 1960)</th>\n",
              "      <td>4.750000</td>\n",
              "    </tr>\n",
              "    <tr>\n",
              "      <th>(Absolutely Fabulous: Series 2, 1994)</th>\n",
              "      <td>4.750000</td>\n",
              "    </tr>\n",
              "    <tr>\n",
              "      <th>(Gilmore Girls: Season 3, 2002)</th>\n",
              "      <td>4.750000</td>\n",
              "    </tr>\n",
              "    <tr>\n",
              "      <th>(The Twilight Zone: Vol. 15, 1963)</th>\n",
              "      <td>4.750000</td>\n",
              "    </tr>\n",
              "    <tr>\n",
              "      <th>(Pete's Dragon, 1977)</th>\n",
              "      <td>4.750000</td>\n",
              "    </tr>\n",
              "    <tr>\n",
              "      <th>(An Evening With Kevin Smith, 2002)</th>\n",
              "      <td>4.750000</td>\n",
              "    </tr>\n",
              "    <tr>\n",
              "      <th>(Curb Your Enthusiasm: Season 3, 2002)</th>\n",
              "      <td>4.800000</td>\n",
              "    </tr>\n",
              "    <tr>\n",
              "      <th>(In the Mood for Love, 2001)</th>\n",
              "      <td>4.800000</td>\n",
              "    </tr>\n",
              "  </tbody>\n",
              "</table>\n",
              "</div>\n",
              "      <button class=\"colab-df-convert\" onclick=\"convertToInteractive('df-96947d5a-1a92-4469-bf8b-eb90c04945fa')\"\n",
              "              title=\"Convert this dataframe to an interactive table.\"\n",
              "              style=\"display:none;\">\n",
              "        \n",
              "  <svg xmlns=\"http://www.w3.org/2000/svg\" height=\"24px\"viewBox=\"0 0 24 24\"\n",
              "       width=\"24px\">\n",
              "    <path d=\"M0 0h24v24H0V0z\" fill=\"none\"/>\n",
              "    <path d=\"M18.56 5.44l.94 2.06.94-2.06 2.06-.94-2.06-.94-.94-2.06-.94 2.06-2.06.94zm-11 1L8.5 8.5l.94-2.06 2.06-.94-2.06-.94L8.5 2.5l-.94 2.06-2.06.94zm10 10l.94 2.06.94-2.06 2.06-.94-2.06-.94-.94-2.06-.94 2.06-2.06.94z\"/><path d=\"M17.41 7.96l-1.37-1.37c-.4-.4-.92-.59-1.43-.59-.52 0-1.04.2-1.43.59L10.3 9.45l-7.72 7.72c-.78.78-.78 2.05 0 2.83L4 21.41c.39.39.9.59 1.41.59.51 0 1.02-.2 1.41-.59l7.78-7.78 2.81-2.81c.8-.78.8-2.07 0-2.86zM5.41 20L4 18.59l7.72-7.72 1.47 1.35L5.41 20z\"/>\n",
              "  </svg>\n",
              "      </button>\n",
              "      \n",
              "  <style>\n",
              "    .colab-df-container {\n",
              "      display:flex;\n",
              "      flex-wrap:wrap;\n",
              "      gap: 12px;\n",
              "    }\n",
              "\n",
              "    .colab-df-convert {\n",
              "      background-color: #E8F0FE;\n",
              "      border: none;\n",
              "      border-radius: 50%;\n",
              "      cursor: pointer;\n",
              "      display: none;\n",
              "      fill: #1967D2;\n",
              "      height: 32px;\n",
              "      padding: 0 0 0 0;\n",
              "      width: 32px;\n",
              "    }\n",
              "\n",
              "    .colab-df-convert:hover {\n",
              "      background-color: #E2EBFA;\n",
              "      box-shadow: 0px 1px 2px rgba(60, 64, 67, 0.3), 0px 1px 3px 1px rgba(60, 64, 67, 0.15);\n",
              "      fill: #174EA6;\n",
              "    }\n",
              "\n",
              "    [theme=dark] .colab-df-convert {\n",
              "      background-color: #3B4455;\n",
              "      fill: #D2E3FC;\n",
              "    }\n",
              "\n",
              "    [theme=dark] .colab-df-convert:hover {\n",
              "      background-color: #434B5C;\n",
              "      box-shadow: 0px 1px 3px 1px rgba(0, 0, 0, 0.15);\n",
              "      filter: drop-shadow(0px 1px 2px rgba(0, 0, 0, 0.3));\n",
              "      fill: #FFFFFF;\n",
              "    }\n",
              "  </style>\n",
              "\n",
              "      <script>\n",
              "        const buttonEl =\n",
              "          document.querySelector('#df-96947d5a-1a92-4469-bf8b-eb90c04945fa button.colab-df-convert');\n",
              "        buttonEl.style.display =\n",
              "          google.colab.kernel.accessAllowed ? 'block' : 'none';\n",
              "\n",
              "        async function convertToInteractive(key) {\n",
              "          const element = document.querySelector('#df-96947d5a-1a92-4469-bf8b-eb90c04945fa');\n",
              "          const dataTable =\n",
              "            await google.colab.kernel.invokeFunction('convertToInteractive',\n",
              "                                                     [key], {});\n",
              "          if (!dataTable) return;\n",
              "\n",
              "          const docLinkHtml = 'Like what you see? Visit the ' +\n",
              "            '<a target=\"_blank\" href=https://colab.research.google.com/notebooks/data_table.ipynb>data table notebook</a>'\n",
              "            + ' to learn more about interactive tables.';\n",
              "          element.innerHTML = '';\n",
              "          dataTable['output_type'] = 'display_data';\n",
              "          await google.colab.output.renderOutput(dataTable, element);\n",
              "          const docLink = document.createElement('div');\n",
              "          docLink.innerHTML = docLinkHtml;\n",
              "          element.appendChild(docLink);\n",
              "        }\n",
              "      </script>\n",
              "    </div>\n",
              "  </div>\n",
              "  "
            ]
          },
          "metadata": {},
          "execution_count": 29
        }
      ],
      "source": [
        "# O método sort_values() ordena na forma crescente, por padrão.\n",
        "# Este método recebe como parâmetro o nome da coluna que será ordenada.\n",
        "\n",
        "# O método head() recebe o valor 10 e nos mostra os 10 primeiros valores.\n",
        "\n",
        "# A saída é um dataframe com os 10 primeiros valores (piores notas médias).\n",
        "\n",
        "last_date_mean_rating.sort_values(by='Rating').head(10)"
      ]
    },
    {
      "cell_type": "markdown",
      "id": "d6d4b6f8",
      "metadata": {
        "id": "d6d4b6f8"
      },
      "source": [
        "### 1.6. Quais os id's dos 5 customer que mais avaliaram filmes e quantas avaliações cada um fez?"
      ]
    },
    {
      "cell_type": "code",
      "execution_count": null,
      "id": "afa95a00",
      "metadata": {
        "id": "afa95a00",
        "outputId": "64a68b78-f591-40c8-930b-36fe7e4e9ac6",
        "colab": {
          "base_uri": "https://localhost:8080/"
        }
      },
      "outputs": [
        {
          "output_type": "execute_result",
          "data": {
            "text/plain": [
              "Cust_Id\n",
              "305344     4467\n",
              "387418     4422\n",
              "2439493    4195\n",
              "1664010    4019\n",
              "2118461    3769\n",
              "Name: Cust_Id, dtype: int64"
            ]
          },
          "metadata": {},
          "execution_count": 30
        }
      ],
      "source": [
        "# Uso do método groupby() para agrupar os dados por coluna. Neste caso, estamos agrupando os dados por coluna 'Cust_Id'.\n",
        "\n",
        "# Aplicando o método count() para contabilizar a quantidade de linhas que possuem o mesmo valor.\n",
        "\n",
        "# sort_values() para ordenar os dados pela quantidade de linhas com o mesmo valor, recebendo\n",
        "# o parâmetro ascending=False para ordenar de forma decrescente.\n",
        "\n",
        "# head() para visualizar os primeiros 5 registros do dataframe.\n",
        "\n",
        "# A saída é uma Series com o Cust_Id e a quantidade de avaliações feitas.\n",
        "\n",
        "df_customers_rating.groupby('Cust_Id')['Cust_Id'].count().sort_values(ascending=False).head()"
      ]
    }
  ],
  "metadata": {
    "kernelspec": {
      "display_name": "Python 3 (ipykernel)",
      "language": "python",
      "name": "python3"
    },
    "language_info": {
      "codemirror_mode": {
        "name": "ipython",
        "version": 3
      },
      "file_extension": ".py",
      "mimetype": "text/x-python",
      "name": "python",
      "nbconvert_exporter": "python",
      "pygments_lexer": "ipython3",
      "version": "3.9.7"
    },
    "colab": {
      "name": "desafio_estagio_dados_solvimm.ipynb",
      "provenance": []
    }
  },
  "nbformat": 4,
  "nbformat_minor": 5
}