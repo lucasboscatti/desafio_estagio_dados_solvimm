{
 "cells": [
  {
   "cell_type": "markdown",
   "id": "9b841980",
   "metadata": {},
   "source": [
    "# Desafio estágio de dados Solvimm"
   ]
  },
  {
   "cell_type": "markdown",
   "id": "9e8539d5",
   "metadata": {},
   "source": [
    "### Importando bibliotecas"
   ]
  },
  {
   "cell_type": "code",
   "execution_count": 1,
   "id": "cfd1e801",
   "metadata": {},
   "outputs": [],
   "source": [
    "# Importando biblioteca pandas com o apelido de pd para manipulação dos dados.\n",
    "\n",
    "import pandas as pd"
   ]
  },
  {
   "cell_type": "markdown",
   "id": "4561e0d9",
   "metadata": {},
   "source": [
    "### Lendo os datasets"
   ]
  },
  {
   "cell_type": "code",
   "execution_count": 2,
   "id": "dc7a3675",
   "metadata": {},
   "outputs": [],
   "source": [
    "# Uso da função read_csv() para ler os datasets de customers rating e movies. Estas funções recebem o nome do arquivo\n",
    "# e o separador usado no csv ';'.\n",
    "\n",
    "# Na leitura do csv movies, usei o parâmetro 'names', o qual recebe uma lista com o nome das colunas a serem definidas. \n",
    "\n",
    "# A saída é um dataframe.\n",
    "\n",
    "df_customers_rating = pd.read_csv('customers_rating.csv', sep=';')\n",
    "df_movies = pd.read_csv('movies.csv', sep=';', names=['Movie_Id', 'title/year'])"
   ]
  },
  {
   "cell_type": "markdown",
   "id": "d368257e",
   "metadata": {},
   "source": [
    "### Análise inicial dos dataframes "
   ]
  },
  {
   "cell_type": "code",
   "execution_count": 3,
   "id": "f8ac1f89",
   "metadata": {},
   "outputs": [
    {
     "name": "stdout",
     "output_type": "stream",
     "text": [
      "(24053764, 4) \n",
      "\n",
      " Cust_Id       int64\n",
      "Rating      float64\n",
      "Date         object\n",
      "Movie_Id      int64\n",
      "dtype: object\n"
     ]
    }
   ],
   "source": [
    "# Uso das propriedades shape e dtypes. \n",
    "\n",
    "# shape para verificar a quantidade de colunas e linhas do dataframe.\n",
    "# A saída é uma tupla com a quantidade de linhas e colunas.\n",
    "\n",
    "# dtypes para visualizar os tipos de dados das colunas.\n",
    "# A saída é uma serie com os nomens das colunas e os tipos de dados.\n",
    "\n",
    "print(df_customers_rating.shape, '\\n\\n', df_customers_rating.dtypes)"
   ]
  },
  {
   "cell_type": "code",
   "execution_count": 4,
   "id": "64abeb7a",
   "metadata": {},
   "outputs": [
    {
     "name": "stdout",
     "output_type": "stream",
     "text": [
      "(4499, 2) \n",
      "\n",
      " Movie_Id       int64\n",
      "title/year    object\n",
      "dtype: object\n"
     ]
    }
   ],
   "source": [
    "# Uso das propriedades shape e dtypes. \n",
    "\n",
    "# shape para verificar a quantidade de colunas e linhas do dataframe.\n",
    "# A saída é uma tupla com a quantidade de linhas e colunas.\n",
    "\n",
    "# dtypes para visualizar os tipos de dados das colunas.\n",
    "# A saída é uma serie com os nomens das colunas e os tipos de dados.\n",
    "\n",
    "print(df_movies.shape, '\\n\\n', df_movies.dtypes)"
   ]
  },
  {
   "cell_type": "markdown",
   "id": "2ea4a7ea",
   "metadata": {},
   "source": [
    "### Visualização dos dados"
   ]
  },
  {
   "cell_type": "code",
   "execution_count": 5,
   "metadata": {},
   "outputs": [
    {
     "data": {
      "text/html": [
       "<div>\n",
       "<style scoped>\n",
       "    .dataframe tbody tr th:only-of-type {\n",
       "        vertical-align: middle;\n",
       "    }\n",
       "\n",
       "    .dataframe tbody tr th {\n",
       "        vertical-align: top;\n",
       "    }\n",
       "\n",
       "    .dataframe thead th {\n",
       "        text-align: right;\n",
       "    }\n",
       "</style>\n",
       "<table border=\"1\" class=\"dataframe\">\n",
       "  <thead>\n",
       "    <tr style=\"text-align: right;\">\n",
       "      <th></th>\n",
       "      <th>Cust_Id</th>\n",
       "      <th>Rating</th>\n",
       "      <th>Date</th>\n",
       "      <th>Movie_Id</th>\n",
       "    </tr>\n",
       "  </thead>\n",
       "  <tbody>\n",
       "    <tr>\n",
       "      <th>0</th>\n",
       "      <td>1488844</td>\n",
       "      <td>3.0</td>\n",
       "      <td>2005-09-06</td>\n",
       "      <td>1</td>\n",
       "    </tr>\n",
       "    <tr>\n",
       "      <th>1</th>\n",
       "      <td>822109</td>\n",
       "      <td>5.0</td>\n",
       "      <td>2005-05-13</td>\n",
       "      <td>1</td>\n",
       "    </tr>\n",
       "    <tr>\n",
       "      <th>2</th>\n",
       "      <td>885013</td>\n",
       "      <td>4.0</td>\n",
       "      <td>2005-10-19</td>\n",
       "      <td>1</td>\n",
       "    </tr>\n",
       "    <tr>\n",
       "      <th>3</th>\n",
       "      <td>30878</td>\n",
       "      <td>4.0</td>\n",
       "      <td>2005-12-26</td>\n",
       "      <td>1</td>\n",
       "    </tr>\n",
       "    <tr>\n",
       "      <th>4</th>\n",
       "      <td>823519</td>\n",
       "      <td>3.0</td>\n",
       "      <td>2004-05-03</td>\n",
       "      <td>1</td>\n",
       "    </tr>\n",
       "  </tbody>\n",
       "</table>\n",
       "</div>"
      ],
      "text/plain": [
       "   Cust_Id  Rating        Date  Movie_Id\n",
       "0  1488844     3.0  2005-09-06         1\n",
       "1   822109     5.0  2005-05-13         1\n",
       "2   885013     4.0  2005-10-19         1\n",
       "3    30878     4.0  2005-12-26         1\n",
       "4   823519     3.0  2004-05-03         1"
      ]
     },
     "execution_count": 5,
     "metadata": {},
     "output_type": "execute_result"
    }
   ],
   "source": [
    "# Uso do método head() para visualizar os primeiros 5 registros do dataframe.\n",
    "\n",
    "# A saída é um dataframe com os primeiros 5 registros.\n",
    "\n",
    "df_customers_rating.head()"
   ]
  },
  {
   "cell_type": "code",
   "execution_count": 6,
   "id": "ad1a214c",
   "metadata": {},
   "outputs": [
    {
     "data": {
      "text/html": [
       "<div>\n",
       "<style scoped>\n",
       "    .dataframe tbody tr th:only-of-type {\n",
       "        vertical-align: middle;\n",
       "    }\n",
       "\n",
       "    .dataframe tbody tr th {\n",
       "        vertical-align: top;\n",
       "    }\n",
       "\n",
       "    .dataframe thead th {\n",
       "        text-align: right;\n",
       "    }\n",
       "</style>\n",
       "<table border=\"1\" class=\"dataframe\">\n",
       "  <thead>\n",
       "    <tr style=\"text-align: right;\">\n",
       "      <th></th>\n",
       "      <th>Cust_Id</th>\n",
       "      <th>Rating</th>\n",
       "      <th>Date</th>\n",
       "      <th>Movie_Id</th>\n",
       "    </tr>\n",
       "  </thead>\n",
       "  <tbody>\n",
       "    <tr>\n",
       "      <th>24053759</th>\n",
       "      <td>2591364</td>\n",
       "      <td>2.0</td>\n",
       "      <td>2005-02-16</td>\n",
       "      <td>4499</td>\n",
       "    </tr>\n",
       "    <tr>\n",
       "      <th>24053760</th>\n",
       "      <td>1791000</td>\n",
       "      <td>2.0</td>\n",
       "      <td>2005-02-10</td>\n",
       "      <td>4499</td>\n",
       "    </tr>\n",
       "    <tr>\n",
       "      <th>24053761</th>\n",
       "      <td>512536</td>\n",
       "      <td>5.0</td>\n",
       "      <td>2005-07-27</td>\n",
       "      <td>4499</td>\n",
       "    </tr>\n",
       "    <tr>\n",
       "      <th>24053762</th>\n",
       "      <td>988963</td>\n",
       "      <td>3.0</td>\n",
       "      <td>2005-12-20</td>\n",
       "      <td>4499</td>\n",
       "    </tr>\n",
       "    <tr>\n",
       "      <th>24053763</th>\n",
       "      <td>1704416</td>\n",
       "      <td>3.0</td>\n",
       "      <td>2004-06-02</td>\n",
       "      <td>4499</td>\n",
       "    </tr>\n",
       "  </tbody>\n",
       "</table>\n",
       "</div>"
      ],
      "text/plain": [
       "          Cust_Id  Rating        Date  Movie_Id\n",
       "24053759  2591364     2.0  2005-02-16      4499\n",
       "24053760  1791000     2.0  2005-02-10      4499\n",
       "24053761   512536     5.0  2005-07-27      4499\n",
       "24053762   988963     3.0  2005-12-20      4499\n",
       "24053763  1704416     3.0  2004-06-02      4499"
      ]
     },
     "execution_count": 6,
     "metadata": {},
     "output_type": "execute_result"
    }
   ],
   "source": [
    "# Uso do método tail() para visualizar os últimos 5 registros do dataframe.\n",
    "\n",
    "# A saída é um dataframe com os últimos 5 registros.\n",
    "\n",
    "df_customers_rating.tail()"
   ]
  },
  {
   "cell_type": "code",
   "execution_count": 7,
   "id": "908ef3de",
   "metadata": {},
   "outputs": [
    {
     "data": {
      "text/html": [
       "<div>\n",
       "<style scoped>\n",
       "    .dataframe tbody tr th:only-of-type {\n",
       "        vertical-align: middle;\n",
       "    }\n",
       "\n",
       "    .dataframe tbody tr th {\n",
       "        vertical-align: top;\n",
       "    }\n",
       "\n",
       "    .dataframe thead th {\n",
       "        text-align: right;\n",
       "    }\n",
       "</style>\n",
       "<table border=\"1\" class=\"dataframe\">\n",
       "  <thead>\n",
       "    <tr style=\"text-align: right;\">\n",
       "      <th></th>\n",
       "      <th>Movie_Id</th>\n",
       "      <th>title/year</th>\n",
       "    </tr>\n",
       "  </thead>\n",
       "  <tbody>\n",
       "    <tr>\n",
       "      <th>0</th>\n",
       "      <td>1</td>\n",
       "      <td>(Dinosaur Planet, 2003)</td>\n",
       "    </tr>\n",
       "    <tr>\n",
       "      <th>1</th>\n",
       "      <td>2</td>\n",
       "      <td>(Isle of Man TT 2004 Review, 2004)</td>\n",
       "    </tr>\n",
       "    <tr>\n",
       "      <th>2</th>\n",
       "      <td>3</td>\n",
       "      <td>(Character, 1997)</td>\n",
       "    </tr>\n",
       "    <tr>\n",
       "      <th>3</th>\n",
       "      <td>4</td>\n",
       "      <td>(Paula Abdul's Get Up &amp; Dance, 1994)</td>\n",
       "    </tr>\n",
       "    <tr>\n",
       "      <th>4</th>\n",
       "      <td>5</td>\n",
       "      <td>(The Rise and Fall of ECW, 2004)</td>\n",
       "    </tr>\n",
       "  </tbody>\n",
       "</table>\n",
       "</div>"
      ],
      "text/plain": [
       "   Movie_Id                            title/year\n",
       "0         1               (Dinosaur Planet, 2003)\n",
       "1         2    (Isle of Man TT 2004 Review, 2004)\n",
       "2         3                     (Character, 1997)\n",
       "3         4  (Paula Abdul's Get Up & Dance, 1994)\n",
       "4         5      (The Rise and Fall of ECW, 2004)"
      ]
     },
     "execution_count": 7,
     "metadata": {},
     "output_type": "execute_result"
    }
   ],
   "source": [
    "# Uso do método head() para visualizar os primeiros 5 registros do dataframe.\n",
    "\n",
    "# A saída é um dataframe com os primeiros 5 registros.\n",
    "\n",
    "df_movies.head()"
   ]
  },
  {
   "cell_type": "code",
   "execution_count": 8,
   "id": "037b38a3",
   "metadata": {},
   "outputs": [
    {
     "data": {
      "text/html": [
       "<div>\n",
       "<style scoped>\n",
       "    .dataframe tbody tr th:only-of-type {\n",
       "        vertical-align: middle;\n",
       "    }\n",
       "\n",
       "    .dataframe tbody tr th {\n",
       "        vertical-align: top;\n",
       "    }\n",
       "\n",
       "    .dataframe thead th {\n",
       "        text-align: right;\n",
       "    }\n",
       "</style>\n",
       "<table border=\"1\" class=\"dataframe\">\n",
       "  <thead>\n",
       "    <tr style=\"text-align: right;\">\n",
       "      <th></th>\n",
       "      <th>Movie_Id</th>\n",
       "      <th>title/year</th>\n",
       "    </tr>\n",
       "  </thead>\n",
       "  <tbody>\n",
       "    <tr>\n",
       "      <th>4494</th>\n",
       "      <td>4495</td>\n",
       "      <td>(Clifford: Happy Birthday Clifford / Puppy Lov...</td>\n",
       "    </tr>\n",
       "    <tr>\n",
       "      <th>4495</th>\n",
       "      <td>4496</td>\n",
       "      <td>(Farewell My Concubine, 1993)</td>\n",
       "    </tr>\n",
       "    <tr>\n",
       "      <th>4496</th>\n",
       "      <td>4497</td>\n",
       "      <td>(Texasville, 1990)</td>\n",
       "    </tr>\n",
       "    <tr>\n",
       "      <th>4497</th>\n",
       "      <td>4498</td>\n",
       "      <td>(Gonin, 2000)</td>\n",
       "    </tr>\n",
       "    <tr>\n",
       "      <th>4498</th>\n",
       "      <td>4499</td>\n",
       "      <td>(In My Skin, 2002)</td>\n",
       "    </tr>\n",
       "  </tbody>\n",
       "</table>\n",
       "</div>"
      ],
      "text/plain": [
       "      Movie_Id                                         title/year\n",
       "4494      4495  (Clifford: Happy Birthday Clifford / Puppy Lov...\n",
       "4495      4496                      (Farewell My Concubine, 1993)\n",
       "4496      4497                                 (Texasville, 1990)\n",
       "4497      4498                                      (Gonin, 2000)\n",
       "4498      4499                                 (In My Skin, 2002)"
      ]
     },
     "execution_count": 8,
     "metadata": {},
     "output_type": "execute_result"
    }
   ],
   "source": [
    "# Uso do método tail() para visualizar os últimos 5 registros do dataframe.\n",
    "\n",
    "# A saída é um dataframe com os últimos 5 registros.\n",
    "\n",
    "df_movies.tail()"
   ]
  },
  {
   "cell_type": "markdown",
   "id": "b14b2ce4",
   "metadata": {},
   "source": [
    "### Verificando a nulidade dos dados"
   ]
  },
  {
   "cell_type": "code",
   "execution_count": 9,
   "id": "4ad9125a",
   "metadata": {},
   "outputs": [
    {
     "data": {
      "text/plain": [
       "Cust_Id     0\n",
       "Rating      0\n",
       "Date        0\n",
       "Movie_Id    0\n",
       "dtype: int64"
      ]
     },
     "execution_count": 9,
     "metadata": {},
     "output_type": "execute_result"
    }
   ],
   "source": [
    "# Uso do método isnull() para verificar a nulidade dos dados. \n",
    "# A saída é um dataframe com as linhas recebendo valores boolean\n",
    "\n",
    "# Uso do método sum() para verificar a quantidade de nulidades por coluna. \n",
    "# Este método soma os valores True (nulidade).\n",
    "\n",
    "# A saída é uma serie com os nomes das colunas e a quantidade de nulidades.\n",
    "\n",
    "df_customers_rating.isnull().sum()"
   ]
  },
  {
   "cell_type": "code",
   "execution_count": 10,
   "id": "a9dc8eba",
   "metadata": {},
   "outputs": [
    {
     "data": {
      "text/plain": [
       "Movie_Id      0\n",
       "title/year    0\n",
       "dtype: int64"
      ]
     },
     "execution_count": 10,
     "metadata": {},
     "output_type": "execute_result"
    }
   ],
   "source": [
    "# Uso do método isnull() para verificar a nulidade dos dados. \n",
    "# A saída é um dataframe com as linhas recebendo valores boolean\n",
    "\n",
    "# Uso do método sum() para verificar a quantidade de nulidades por coluna.\n",
    "# Este método soma os valores True (nulidade).\n",
    "\n",
    "# A saída é uma serie com os nomes das colunas e a quantidade de nulidades.\n",
    "\n",
    "df_movies.isnull().sum()"
   ]
  },
  {
   "cell_type": "markdown",
   "id": "70eca4dc",
   "metadata": {},
   "source": [
    "Podemos ver que não há nulidade em ambos os datasets."
   ]
  },
  {
   "cell_type": "markdown",
   "id": "bef8b5e2",
   "metadata": {},
   "source": [
    "### Juntando os datasets"
   ]
  },
  {
   "cell_type": "markdown",
   "id": "695fe56b",
   "metadata": {},
   "source": [
    "Podemos juntar os datasets em um único dataframe, unindo de acordo com o Movie_Id"
   ]
  },
  {
   "cell_type": "code",
   "execution_count": 11,
   "id": "69bcdee2",
   "metadata": {},
   "outputs": [],
   "source": [
    "# Uso do método set_index() para definir como index do dataframe a coluna Movie_Id do dataset movies e customer_rating. \n",
    "# Este método recebe o nome da coluna que será definida como index e o parâmetro inplace=True para modificar o dataframe original.\n",
    "\n",
    "# A saída é um dataframe com o index definido.\n",
    "\n",
    "df_movies.set_index('Movie_Id', inplace=True)\n",
    "df_customers_rating.set_index('Movie_Id', inplace=True)"
   ]
  },
  {
   "cell_type": "code",
   "execution_count": 12,
   "id": "36bbd393",
   "metadata": {},
   "outputs": [],
   "source": [
    "# Esta função recebe os dataframes que queremos combinar e o nome da coluna que será usada de referência para combinar os dados.\n",
    "\n",
    "# A saída é um dataframe com a junção dos dados.\n",
    "\n",
    "df = pd.merge(df_movies, df_customers_rating, on='Movie_Id')"
   ]
  },
  {
   "cell_type": "code",
   "execution_count": 13,
   "id": "9491aee4",
   "metadata": {},
   "outputs": [
    {
     "data": {
      "text/html": [
       "<div>\n",
       "<style scoped>\n",
       "    .dataframe tbody tr th:only-of-type {\n",
       "        vertical-align: middle;\n",
       "    }\n",
       "\n",
       "    .dataframe tbody tr th {\n",
       "        vertical-align: top;\n",
       "    }\n",
       "\n",
       "    .dataframe thead th {\n",
       "        text-align: right;\n",
       "    }\n",
       "</style>\n",
       "<table border=\"1\" class=\"dataframe\">\n",
       "  <thead>\n",
       "    <tr style=\"text-align: right;\">\n",
       "      <th></th>\n",
       "      <th>title/year</th>\n",
       "      <th>Cust_Id</th>\n",
       "      <th>Rating</th>\n",
       "      <th>Date</th>\n",
       "    </tr>\n",
       "    <tr>\n",
       "      <th>Movie_Id</th>\n",
       "      <th></th>\n",
       "      <th></th>\n",
       "      <th></th>\n",
       "      <th></th>\n",
       "    </tr>\n",
       "  </thead>\n",
       "  <tbody>\n",
       "    <tr>\n",
       "      <th>1</th>\n",
       "      <td>(Dinosaur Planet, 2003)</td>\n",
       "      <td>1488844</td>\n",
       "      <td>3.0</td>\n",
       "      <td>2005-09-06</td>\n",
       "    </tr>\n",
       "    <tr>\n",
       "      <th>1</th>\n",
       "      <td>(Dinosaur Planet, 2003)</td>\n",
       "      <td>822109</td>\n",
       "      <td>5.0</td>\n",
       "      <td>2005-05-13</td>\n",
       "    </tr>\n",
       "    <tr>\n",
       "      <th>1</th>\n",
       "      <td>(Dinosaur Planet, 2003)</td>\n",
       "      <td>885013</td>\n",
       "      <td>4.0</td>\n",
       "      <td>2005-10-19</td>\n",
       "    </tr>\n",
       "    <tr>\n",
       "      <th>1</th>\n",
       "      <td>(Dinosaur Planet, 2003)</td>\n",
       "      <td>30878</td>\n",
       "      <td>4.0</td>\n",
       "      <td>2005-12-26</td>\n",
       "    </tr>\n",
       "    <tr>\n",
       "      <th>1</th>\n",
       "      <td>(Dinosaur Planet, 2003)</td>\n",
       "      <td>823519</td>\n",
       "      <td>3.0</td>\n",
       "      <td>2004-05-03</td>\n",
       "    </tr>\n",
       "  </tbody>\n",
       "</table>\n",
       "</div>"
      ],
      "text/plain": [
       "                       title/year  Cust_Id  Rating        Date\n",
       "Movie_Id                                                      \n",
       "1         (Dinosaur Planet, 2003)  1488844     3.0  2005-09-06\n",
       "1         (Dinosaur Planet, 2003)   822109     5.0  2005-05-13\n",
       "1         (Dinosaur Planet, 2003)   885013     4.0  2005-10-19\n",
       "1         (Dinosaur Planet, 2003)    30878     4.0  2005-12-26\n",
       "1         (Dinosaur Planet, 2003)   823519     3.0  2004-05-03"
      ]
     },
     "execution_count": 13,
     "metadata": {},
     "output_type": "execute_result"
    }
   ],
   "source": [
    "# Visualizando o merge dos dataframes.\n",
    "\n",
    "# Uso do método head() para visualizar os primeiros 5 registros do dataframe.\n",
    "\n",
    "# A saída é um dataframe com os primeiros 5 registros.\n",
    "\n",
    "df.head()"
   ]
  },
  {
   "cell_type": "markdown",
   "id": "20cc6184",
   "metadata": {},
   "source": [
    "## Perguntas"
   ]
  },
  {
   "cell_type": "markdown",
   "id": "3137c094",
   "metadata": {},
   "source": [
    "### 1.1. Quantos filmes estão disponíveis no dataset?"
   ]
  },
  {
   "cell_type": "code",
   "execution_count": 14,
   "id": "4270030a",
   "metadata": {},
   "outputs": [
    {
     "data": {
      "text/plain": [
       "4498"
      ]
     },
     "execution_count": 14,
     "metadata": {},
     "output_type": "execute_result"
    }
   ],
   "source": [
    "# Uso do método nunique(), o qual verifica a unicidade de cada valor de uma coluna. \n",
    "# Neste caso, estamos avaliando a coluna 'title/year' do dataframe df_movies.\n",
    "\n",
    "# A saída é um número inteiro.\n",
    "\n",
    "df_movies['title/year'].nunique()"
   ]
  },
  {
   "cell_type": "markdown",
   "id": "8d5d5fcc",
   "metadata": {},
   "source": [
    "Temos um total de 4498 filmes disponíveis no dataset."
   ]
  },
  {
   "cell_type": "markdown",
   "id": "fe0883a1",
   "metadata": {},
   "source": [
    "### 1.2. Qual é o nome dos 5 filmes com melhor média de avaliação?"
   ]
  },
  {
   "cell_type": "code",
   "execution_count": 15,
   "id": "91f7ac3a",
   "metadata": {},
   "outputs": [
    {
     "data": {
      "text/plain": [
       "title/year\n",
       "(Lost: Season 1, 2004)                                                                 4.670989\n",
       "(Ghost in the Shell: Stand Alone Complex: 2nd Gig, 2005)                               4.586364\n",
       "(The Simpsons: Season 6, 1994)                                                         4.581296\n",
       "(Inu-Yasha, 2000)                                                                      4.554434\n",
       "(Lord of the Rings: The Return of the King: Extended Edition: Bonus Material, 2003)    4.552000\n",
       "Name: Rating, dtype: float64"
      ]
     },
     "execution_count": 15,
     "metadata": {},
     "output_type": "execute_result"
    }
   ],
   "source": [
    "# Uso do método groupby() para agrupar os dados por coluna. Neste caso, estamos agrupando os dados por coluna 'title/year'.\n",
    "\n",
    "# Aplicando o método mean() para calcular a média da coluna 'Rating'.\n",
    "\n",
    "# sort_values() para ordenar os dados pela média, recebendo o parâmetro ascending=False para ordenar de forma decrescente.\n",
    "\n",
    "# head() para visualizar os primeiros 5 registros do dataframe.\n",
    "\n",
    "# A saída é uma Series com os dados de 'title/year' e suas respectivas médias.\n",
    "\n",
    "df.groupby('title/year')['Rating'].mean().sort_values(ascending=False).head()\n"
   ]
  },
  {
   "cell_type": "markdown",
   "id": "e121b60c",
   "metadata": {},
   "source": [
    "Acima estão representados os 5 filmes com maior média de avaliação, seus respectivos nomes e médias."
   ]
  },
  {
   "cell_type": "markdown",
   "id": "00f909c1",
   "metadata": {},
   "source": [
    "### 1.3. Quais os 5 anos com menos lançamentos de filmes?"
   ]
  },
  {
   "cell_type": "code",
   "execution_count": 16,
   "id": "f8b42f22",
   "metadata": {},
   "outputs": [
    {
     "data": {
      "text/plain": [
       "1917    1\n",
       "1922    1\n",
       "1926    1\n",
       "1915    1\n",
       "1924    2\n",
       "1916    2\n",
       "1931    2\n",
       "1918    2\n",
       "1929    2\n",
       "1933    3\n",
       "Name: title/year, dtype: int64"
      ]
     },
     "execution_count": 16,
     "metadata": {},
     "output_type": "execute_result"
    }
   ],
   "source": [
    "# Aplicação do método apply(), o qual aplica uma função em cada valor da coluna 'title/year' de df_movies.\n",
    "# Este método recebe uma função lambda, a qual recebe um parâmetro 'row' que é uma linha do dataframe e retorna\n",
    "# uma string sem os caracteres '(' e ')'.\n",
    "# Usamos o método split() para transformar a string em uma lista com base no caracter ','. O ano esta no índice 1 da lista.\n",
    "\n",
    "# Após isto, value_counts() retorna uma Series com a quantidade de repeticões de cada valor.\n",
    "\n",
    "# O método sort_values() ordena a Series em ordem crescente, de modo que ao aplicarmos o método head() ele retorna\n",
    "# os 5 primeiros valores, que neste caso são os anos com menos lançamentos de filmes.\n",
    "\n",
    "# Função lambda:\n",
    "# Exemplo de entrada: '(Inu-Yasha, 2000)' Exemplo de saída: '2000'\n",
    "\n",
    "# A saída é uma Series com os anos com menos lançamentos de filmes.\n",
    "\n",
    "df_movies['title/year'].apply(\n",
    "    lambda row: row.replace('(', '').replace(')', '').split(', ')[1]\n",
    "    ).value_counts().sort_values().head(10)"
   ]
  },
  {
   "cell_type": "markdown",
   "id": "0155f249",
   "metadata": {},
   "source": [
    "Temos 4 anos com apenas 1 lançamento, os quais são 1915, 1917, 1922 e 1926. Para a 5ª colocação, podemos escolher os anos de 1916, 1918, 1924, 1929 e 1931, os quais houveram apenas 2 lançamentos."
   ]
  },
  {
   "cell_type": "markdown",
   "id": "0b0db251",
   "metadata": {},
   "source": [
    "### 1.4. Quantos filmes que possuem avaliação maior ou igual a 4.7, considerando apenas os filmes avaliados na última data de avaliação do dataset? "
   ]
  },
  {
   "cell_type": "code",
   "execution_count": 17,
   "id": "8f2a4b08",
   "metadata": {},
   "outputs": [],
   "source": [
    "# Uso do método astype() para transformar o tipo de dado da coluna 'Date'.\n",
    "# Este método recebe o tipo de dado que desejamos transformar. Neste caso, estamos\n",
    "# transformando o tipo de dado da coluna 'Date' de object para datetime.\n",
    "\n",
    "# A saída é um dataframe com o tipo de dado da coluna 'Date' transformado.\n",
    "\n",
    "df['Date'] = df['Date'].astype('datetime64[ns]')"
   ]
  },
  {
   "cell_type": "code",
   "execution_count": 18,
   "id": "6db22ef5",
   "metadata": {},
   "outputs": [
    {
     "data": {
      "text/plain": [
       "Timestamp('2005-12-31 00:00:00')"
      ]
     },
     "execution_count": 18,
     "metadata": {},
     "output_type": "execute_result"
    }
   ],
   "source": [
    "# Usamos o método max() na coluna Date, para obter o maior valor (data mais recente).\n",
    "\n",
    "# A saída é o maior valor encontrado na coluna.\n",
    "\n",
    "df['Date'].max()"
   ]
  },
  {
   "cell_type": "code",
   "execution_count": 19,
   "id": "22720c38",
   "metadata": {},
   "outputs": [],
   "source": [
    "# Usamos o método loc() que recebe a coluna 'Date' de df, o operador '==' e a data mais recente de avaliação.\n",
    "# O método loc() faz uma busca por linhas que satisfaçam a condição.\n",
    "\n",
    "# A saída é um dataframe com as linhas que satisfazem a condição.\n",
    "\n",
    "last_date = df.loc[df['Date'] == df['Date'].max()]"
   ]
  },
  {
   "cell_type": "code",
   "execution_count": 20,
   "id": "28cecba0",
   "metadata": {},
   "outputs": [],
   "source": [
    "# Uso do método groupby() para agrupar os dados por coluna. Neste caso, estamos agrupando os dados por coluna 'title/year'.\n",
    "\n",
    "# Aplicando o método mean() para calcular a média das colunas numéricas\n",
    "\n",
    "# A saída é um dataframe com as colunas 'title/year' e colunas numéricas com as médias.\n",
    "\n",
    "last_date_mean_rating = last_date.groupby('title/year').mean()"
   ]
  },
  {
   "cell_type": "code",
   "execution_count": 21,
   "id": "e83e10b6",
   "metadata": {},
   "outputs": [
    {
     "data": {
      "text/html": [
       "<div>\n",
       "<style scoped>\n",
       "    .dataframe tbody tr th:only-of-type {\n",
       "        vertical-align: middle;\n",
       "    }\n",
       "\n",
       "    .dataframe tbody tr th {\n",
       "        vertical-align: top;\n",
       "    }\n",
       "\n",
       "    .dataframe thead th {\n",
       "        text-align: right;\n",
       "    }\n",
       "</style>\n",
       "<table border=\"1\" class=\"dataframe\">\n",
       "  <thead>\n",
       "    <tr style=\"text-align: right;\">\n",
       "      <th></th>\n",
       "      <th>Cust_Id</th>\n",
       "      <th>Rating</th>\n",
       "    </tr>\n",
       "    <tr>\n",
       "      <th>title/year</th>\n",
       "      <th></th>\n",
       "      <th></th>\n",
       "    </tr>\n",
       "  </thead>\n",
       "  <tbody>\n",
       "    <tr>\n",
       "      <th>(10 Things I Hate About You, 1999)</th>\n",
       "      <td>8.846597e+05</td>\n",
       "      <td>3.500000</td>\n",
       "    </tr>\n",
       "    <tr>\n",
       "      <th>(101 Dalmatians II: Patch's London Adventure, 2003)</th>\n",
       "      <td>1.021690e+06</td>\n",
       "      <td>3.750000</td>\n",
       "    </tr>\n",
       "    <tr>\n",
       "      <th>(11:14, 2005)</th>\n",
       "      <td>1.403605e+06</td>\n",
       "      <td>3.166667</td>\n",
       "    </tr>\n",
       "    <tr>\n",
       "      <th>(13 Ghosts, 1960)</th>\n",
       "      <td>1.089690e+06</td>\n",
       "      <td>4.500000</td>\n",
       "    </tr>\n",
       "    <tr>\n",
       "      <th>(1942: A Love Story, 1993)</th>\n",
       "      <td>3.118410e+05</td>\n",
       "      <td>4.000000</td>\n",
       "    </tr>\n",
       "  </tbody>\n",
       "</table>\n",
       "</div>"
      ],
      "text/plain": [
       "                                                         Cust_Id    Rating\n",
       "title/year                                                                \n",
       "(10 Things I Hate About You, 1999)                  8.846597e+05  3.500000\n",
       "(101 Dalmatians II: Patch's London Adventure, 2...  1.021690e+06  3.750000\n",
       "(11:14, 2005)                                       1.403605e+06  3.166667\n",
       "(13 Ghosts, 1960)                                   1.089690e+06  4.500000\n",
       "(1942: A Love Story, 1993)                          3.118410e+05  4.000000"
      ]
     },
     "execution_count": 21,
     "metadata": {},
     "output_type": "execute_result"
    }
   ],
   "source": [
    "# Visualizando o dataframe last_date_mean_rating.\n",
    "\n",
    "# Uso do método head() para visualizar os primeiros 5 registros do dataframe.\n",
    "\n",
    "# A saída é um dataframe com os primeiros 5 registros.\n",
    "\n",
    "last_date_mean_rating.head()"
   ]
  },
  {
   "cell_type": "code",
   "execution_count": 22,
   "id": "cf35b02a",
   "metadata": {},
   "outputs": [],
   "source": [
    "# Uso do método drop() para remover a coluna 'Cust_Id' do dataframe, visto que \n",
    "# a média desta coluna não nos interessa e não há sentido em média de Id.\n",
    "\n",
    "# O método drop() recebe como parâmetro o nome da coluna que será removida e o parâmetro inplace=True para modificar o dataframe original.\n",
    "\n",
    "# A saída é um dataframe com a coluna 'Cust_Id' removida.\n",
    "\n",
    "last_date_mean_rating.drop(columns=['Cust_Id'], inplace=True)"
   ]
  },
  {
   "cell_type": "code",
   "execution_count": 23,
   "id": "1b96eb6e",
   "metadata": {},
   "outputs": [
    {
     "data": {
      "text/plain": [
       "(195, 1)"
      ]
     },
     "execution_count": 23,
     "metadata": {},
     "output_type": "execute_result"
    }
   ],
   "source": [
    "# Uso do método loc() o qual seleciona as linhas que satisfazem a condição.\n",
    "# Este método recebe como parâmetros o nome da coluna e o valor que será comparado.\n",
    "\n",
    "# Uso do método shape para obter o número de linhas e colunas do dataframe.\n",
    "# A saída é um número inteiro.\n",
    "\n",
    "last_date_mean_rating = last_date_mean_rating.loc[last_date_mean_rating['Rating'] >= 4.7]\n",
    "last_date_mean_rating.shape"
   ]
  },
  {
   "cell_type": "markdown",
   "id": "d7e89ff3",
   "metadata": {},
   "source": [
    "195 filmes possuem avaliação média maior ou igual a 4.7."
   ]
  },
  {
   "cell_type": "markdown",
   "id": "dfefcd7e",
   "metadata": {},
   "source": [
    "### 1.5. Dos filmes encontrados na questão anterior, quais são os 10 filmes com as piores notas e quais as notas?"
   ]
  },
  {
   "cell_type": "code",
   "execution_count": 24,
   "id": "ddca53d4",
   "metadata": {},
   "outputs": [
    {
     "data": {
      "text/html": [
       "<div>\n",
       "<style scoped>\n",
       "    .dataframe tbody tr th:only-of-type {\n",
       "        vertical-align: middle;\n",
       "    }\n",
       "\n",
       "    .dataframe tbody tr th {\n",
       "        vertical-align: top;\n",
       "    }\n",
       "\n",
       "    .dataframe thead th {\n",
       "        text-align: right;\n",
       "    }\n",
       "</style>\n",
       "<table border=\"1\" class=\"dataframe\">\n",
       "  <thead>\n",
       "    <tr style=\"text-align: right;\">\n",
       "      <th></th>\n",
       "      <th>Rating</th>\n",
       "    </tr>\n",
       "    <tr>\n",
       "      <th>title/year</th>\n",
       "      <th></th>\n",
       "    </tr>\n",
       "  </thead>\n",
       "  <tbody>\n",
       "    <tr>\n",
       "      <th>(Spirited Away, 2002)</th>\n",
       "      <td>4.714286</td>\n",
       "    </tr>\n",
       "    <tr>\n",
       "      <th>(SpongeBob SquarePants: Season 3, 2002)</th>\n",
       "      <td>4.750000</td>\n",
       "    </tr>\n",
       "    <tr>\n",
       "      <th>(The Twilight Zone: Vol. 41, 1960)</th>\n",
       "      <td>4.750000</td>\n",
       "    </tr>\n",
       "    <tr>\n",
       "      <th>(Absolutely Fabulous: Series 2, 1994)</th>\n",
       "      <td>4.750000</td>\n",
       "    </tr>\n",
       "    <tr>\n",
       "      <th>(Gilmore Girls: Season 3, 2002)</th>\n",
       "      <td>4.750000</td>\n",
       "    </tr>\n",
       "    <tr>\n",
       "      <th>(The Twilight Zone: Vol. 15, 1963)</th>\n",
       "      <td>4.750000</td>\n",
       "    </tr>\n",
       "    <tr>\n",
       "      <th>(Pete's Dragon, 1977)</th>\n",
       "      <td>4.750000</td>\n",
       "    </tr>\n",
       "    <tr>\n",
       "      <th>(An Evening With Kevin Smith, 2002)</th>\n",
       "      <td>4.750000</td>\n",
       "    </tr>\n",
       "    <tr>\n",
       "      <th>(Curb Your Enthusiasm: Season 3, 2002)</th>\n",
       "      <td>4.800000</td>\n",
       "    </tr>\n",
       "    <tr>\n",
       "      <th>(In the Mood for Love, 2001)</th>\n",
       "      <td>4.800000</td>\n",
       "    </tr>\n",
       "  </tbody>\n",
       "</table>\n",
       "</div>"
      ],
      "text/plain": [
       "                                           Rating\n",
       "title/year                                       \n",
       "(Spirited Away, 2002)                    4.714286\n",
       "(SpongeBob SquarePants: Season 3, 2002)  4.750000\n",
       "(The Twilight Zone: Vol. 41, 1960)       4.750000\n",
       "(Absolutely Fabulous: Series 2, 1994)    4.750000\n",
       "(Gilmore Girls: Season 3, 2002)          4.750000\n",
       "(The Twilight Zone: Vol. 15, 1963)       4.750000\n",
       "(Pete's Dragon, 1977)                    4.750000\n",
       "(An Evening With Kevin Smith, 2002)      4.750000\n",
       "(Curb Your Enthusiasm: Season 3, 2002)   4.800000\n",
       "(In the Mood for Love, 2001)             4.800000"
      ]
     },
     "execution_count": 24,
     "metadata": {},
     "output_type": "execute_result"
    }
   ],
   "source": [
    "# O método sort_values() ordena na forma crescente, por padrão.\n",
    "# Este método recebe como parâmetro o nome da coluna que será ordenada.\n",
    "\n",
    "# O método head() recebe o valor 10 e nos mostra os 10 primeiros valores.\n",
    "\n",
    "# A saída é um dataframe com os 10 primeiros valores (piores notas médias).\n",
    "\n",
    "last_date_mean_rating.sort_values(by='Rating').head(10)"
   ]
  },
  {
   "cell_type": "markdown",
   "id": "d6d4b6f8",
   "metadata": {},
   "source": [
    "### 1.6. Quais os id's dos 5 customer que mais avaliaram filmes e quantas avaliações cada um fez?"
   ]
  },
  {
   "cell_type": "code",
   "execution_count": 27,
   "id": "afa95a00",
   "metadata": {},
   "outputs": [
    {
     "data": {
      "text/plain": [
       "Cust_Id\n",
       "305344     4467\n",
       "387418     4422\n",
       "2439493    4195\n",
       "1664010    4019\n",
       "2118461    3769\n",
       "Name: Cust_Id, dtype: int64"
      ]
     },
     "execution_count": 27,
     "metadata": {},
     "output_type": "execute_result"
    }
   ],
   "source": [
    "# Uso do método groupby() para agrupar os dados por coluna. Neste caso, estamos agrupando os dados por coluna 'Cust_Id'.\n",
    "\n",
    "# Aplicando o método count() para contabilizar a quantidade de linhas que possuem o mesmo valor.\n",
    "\n",
    "# sort_values() para ordenar os dados pela quantidade de linhas com o mesmo valor, recebendo\n",
    "# o parâmetro ascending=False para ordenar de forma decrescente.\n",
    "\n",
    "# head() para visualizar os primeiros 5 registros do dataframe.\n",
    "\n",
    "# A saída é uma Series com o Cust_Id e a quantidade de avaliações feitas.\n",
    "\n",
    "df_customers_rating.groupby('Cust_Id')['Cust_Id'].count().sort_values(ascending=False).head()"
   ]
  },
  {
   "cell_type": "code",
   "execution_count": null,
   "id": "4acea21e",
   "metadata": {},
   "outputs": [],
   "source": []
  }
 ],
 "metadata": {
  "kernelspec": {
   "display_name": "Python 3 (ipykernel)",
   "language": "python",
   "name": "python3"
  },
  "language_info": {
   "codemirror_mode": {
    "name": "ipython",
    "version": 3
   },
   "file_extension": ".py",
   "mimetype": "text/x-python",
   "name": "python",
   "nbconvert_exporter": "python",
   "pygments_lexer": "ipython3",
   "version": "3.9.7"
  }
 },
 "nbformat": 4,
 "nbformat_minor": 5
}
